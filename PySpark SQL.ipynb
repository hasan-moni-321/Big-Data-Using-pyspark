{
 "cells": [
  {
   "cell_type": "code",
   "execution_count": 1,
   "metadata": {},
   "outputs": [],
   "source": [
    "from pyspark.sql import SparkSession"
   ]
  },
  {
   "cell_type": "markdown",
   "metadata": {},
   "source": [
    "### Creating APP"
   ]
  },
  {
   "cell_type": "code",
   "execution_count": 2,
   "metadata": {},
   "outputs": [],
   "source": [
    "spark = SparkSession.builder \\\n",
    "    .master(\"local\") \\\n",
    "    .appName(\"Bangladesh India Cricket\") \\\n",
    "    .config(\"spark.some.config.option\", \"some-value\") \\\n",
    "    .getOrCreate()"
   ]
  },
  {
   "cell_type": "code",
   "execution_count": null,
   "metadata": {},
   "outputs": [],
   "source": []
  },
  {
   "cell_type": "markdown",
   "metadata": {},
   "source": [
    "##### Reading dataset"
   ]
  },
  {
   "cell_type": "code",
   "execution_count": 5,
   "metadata": {},
   "outputs": [],
   "source": [
    "dataset = spark.read.csv('/home/hasan/DATA SET/datasets_33080_43333_car data.csv', header=True)\n"
   ]
  },
  {
   "cell_type": "code",
   "execution_count": 6,
   "metadata": {},
   "outputs": [
    {
     "name": "stdout",
     "output_type": "stream",
     "text": [
      "+-------------+----+-------------+-------------+----------+---------+-----------+------------+-----+\n",
      "|     Car_Name|Year|Selling_Price|Present_Price|Kms_Driven|Fuel_Type|Seller_Type|Transmission|Owner|\n",
      "+-------------+----+-------------+-------------+----------+---------+-----------+------------+-----+\n",
      "|         ritz|2014|         3.35|         5.59|     27000|   Petrol|     Dealer|      Manual|    0|\n",
      "|          sx4|2013|         4.75|         9.54|     43000|   Diesel|     Dealer|      Manual|    0|\n",
      "|         ciaz|2017|         7.25|         9.85|      6900|   Petrol|     Dealer|      Manual|    0|\n",
      "|      wagon r|2011|         2.85|         4.15|      5200|   Petrol|     Dealer|      Manual|    0|\n",
      "|        swift|2014|          4.6|         6.87|     42450|   Diesel|     Dealer|      Manual|    0|\n",
      "|vitara brezza|2018|         9.25|         9.83|      2071|   Diesel|     Dealer|      Manual|    0|\n",
      "|         ciaz|2015|         6.75|         8.12|     18796|   Petrol|     Dealer|      Manual|    0|\n",
      "|      s cross|2015|          6.5|         8.61|     33429|   Diesel|     Dealer|      Manual|    0|\n",
      "|         ciaz|2016|         8.75|         8.89|     20273|   Diesel|     Dealer|      Manual|    0|\n",
      "|         ciaz|2015|         7.45|         8.92|     42367|   Diesel|     Dealer|      Manual|    0|\n",
      "|     alto 800|2017|         2.85|          3.6|      2135|   Petrol|     Dealer|      Manual|    0|\n",
      "|         ciaz|2015|         6.85|        10.38|     51000|   Diesel|     Dealer|      Manual|    0|\n",
      "|         ciaz|2015|          7.5|         9.94|     15000|   Petrol|     Dealer|   Automatic|    0|\n",
      "|       ertiga|2015|          6.1|         7.71|     26000|   Petrol|     Dealer|      Manual|    0|\n",
      "|        dzire|2009|         2.25|         7.21|     77427|   Petrol|     Dealer|      Manual|    0|\n",
      "|       ertiga|2016|         7.75|        10.79|     43000|   Diesel|     Dealer|      Manual|    0|\n",
      "|       ertiga|2015|         7.25|        10.79|     41678|   Diesel|     Dealer|      Manual|    0|\n",
      "|       ertiga|2016|         7.75|        10.79|     43000|   Diesel|     Dealer|      Manual|    0|\n",
      "|      wagon r|2015|         3.25|         5.09|     35500|      CNG|     Dealer|      Manual|    0|\n",
      "|          sx4|2010|         2.65|         7.98|     41442|   Petrol|     Dealer|      Manual|    0|\n",
      "+-------------+----+-------------+-------------+----------+---------+-----------+------------+-----+\n",
      "only showing top 20 rows\n",
      "\n"
     ]
    }
   ],
   "source": [
    "#head of the dataset\n",
    "dataset.show()\n"
   ]
  },
  {
   "cell_type": "code",
   "execution_count": 7,
   "metadata": {},
   "outputs": [
    {
     "name": "stdout",
     "output_type": "stream",
     "text": [
      "root\n",
      " |-- Car_Name: string (nullable = true)\n",
      " |-- Year: string (nullable = true)\n",
      " |-- Selling_Price: string (nullable = true)\n",
      " |-- Present_Price: string (nullable = true)\n",
      " |-- Kms_Driven: string (nullable = true)\n",
      " |-- Fuel_Type: string (nullable = true)\n",
      " |-- Seller_Type: string (nullable = true)\n",
      " |-- Transmission: string (nullable = true)\n",
      " |-- Owner: string (nullable = true)\n",
      "\n"
     ]
    }
   ],
   "source": [
    "# checking data type and null value of the column\n",
    "dataset.printSchema()\n"
   ]
  },
  {
   "cell_type": "code",
   "execution_count": null,
   "metadata": {},
   "outputs": [],
   "source": []
  },
  {
   "cell_type": "markdown",
   "metadata": {},
   "source": [
    "#### Canging data type of the column"
   ]
  },
  {
   "cell_type": "code",
   "execution_count": 8,
   "metadata": {},
   "outputs": [],
   "source": [
    "from pyspark.sql.types import DoubleType, IntegerType\n",
    "\n",
    "dataset = dataset.withColumn(\"Selling_Price\",dataset[\"Selling_Price\"].cast(DoubleType()))\n",
    "dataset = dataset.withColumn(\"Year\",dataset[\"Year\"].cast(IntegerType()))\n",
    "dataset = dataset.withColumn(\"Present_Price\",dataset[\"Present_Price\"].cast(DoubleType()))\n",
    "dataset = dataset.withColumn(\"Kms_Driven\",dataset[\"Kms_Driven\"].cast(IntegerType()))\n",
    "dataset = dataset.withColumn(\"Owner\",dataset[\"Owner\"].cast(IntegerType()))\n"
   ]
  },
  {
   "cell_type": "code",
   "execution_count": 9,
   "metadata": {},
   "outputs": [
    {
     "name": "stdout",
     "output_type": "stream",
     "text": [
      "root\n",
      " |-- Car_Name: string (nullable = true)\n",
      " |-- Year: integer (nullable = true)\n",
      " |-- Selling_Price: double (nullable = true)\n",
      " |-- Present_Price: double (nullable = true)\n",
      " |-- Kms_Driven: integer (nullable = true)\n",
      " |-- Fuel_Type: string (nullable = true)\n",
      " |-- Seller_Type: string (nullable = true)\n",
      " |-- Transmission: string (nullable = true)\n",
      " |-- Owner: integer (nullable = true)\n",
      "\n"
     ]
    }
   ],
   "source": [
    "dataset.printSchema()\n"
   ]
  },
  {
   "cell_type": "code",
   "execution_count": null,
   "metadata": {},
   "outputs": [],
   "source": []
  },
  {
   "cell_type": "markdown",
   "metadata": {},
   "source": [
    "##### Checking null value in every column"
   ]
  },
  {
   "cell_type": "code",
   "execution_count": 10,
   "metadata": {},
   "outputs": [
    {
     "name": "stdout",
     "output_type": "stream",
     "text": [
      "+--------+----+-------------+-------------+----------+---------+-----------+------------+-----+\n",
      "|Car_Name|Year|Selling_Price|Present_Price|Kms_Driven|Fuel_Type|Seller_Type|Transmission|Owner|\n",
      "+--------+----+-------------+-------------+----------+---------+-----------+------------+-----+\n",
      "|       0|   0|            0|            0|         0|        0|          0|           0|    0|\n",
      "+--------+----+-------------+-------------+----------+---------+-----------+------------+-----+\n",
      "\n"
     ]
    }
   ],
   "source": [
    "from pyspark.sql.functions import isnan, when, count, col\n",
    "\n",
    "dataset.select([count(when(isnan(c), c)).alias(c) for c in dataset.columns]).show()\n"
   ]
  },
  {
   "cell_type": "code",
   "execution_count": null,
   "metadata": {},
   "outputs": [],
   "source": []
  },
  {
   "cell_type": "markdown",
   "metadata": {},
   "source": [
    "##### Selecting column"
   ]
  },
  {
   "cell_type": "code",
   "execution_count": 11,
   "metadata": {},
   "outputs": [
    {
     "name": "stdout",
     "output_type": "stream",
     "text": [
      "+---------+\n",
      "|Fuel_Type|\n",
      "+---------+\n",
      "|   Petrol|\n",
      "|   Diesel|\n",
      "|   Petrol|\n",
      "|   Petrol|\n",
      "|   Diesel|\n",
      "|   Diesel|\n",
      "|   Petrol|\n",
      "|   Diesel|\n",
      "|   Diesel|\n",
      "|   Diesel|\n",
      "|   Petrol|\n",
      "|   Diesel|\n",
      "|   Petrol|\n",
      "|   Petrol|\n",
      "|   Petrol|\n",
      "|   Diesel|\n",
      "|   Diesel|\n",
      "|   Diesel|\n",
      "|      CNG|\n",
      "|   Petrol|\n",
      "+---------+\n",
      "only showing top 20 rows\n",
      "\n"
     ]
    }
   ],
   "source": [
    "#selecting a single column\n",
    "dataset.select('Fuel_Type').show()\n"
   ]
  },
  {
   "cell_type": "code",
   "execution_count": 12,
   "metadata": {},
   "outputs": [
    {
     "name": "stdout",
     "output_type": "stream",
     "text": [
      "+-------------+---------+\n",
      "|     Car_Name|Fuel_Type|\n",
      "+-------------+---------+\n",
      "|         ritz|   Petrol|\n",
      "|          sx4|   Diesel|\n",
      "|         ciaz|   Petrol|\n",
      "|      wagon r|   Petrol|\n",
      "|        swift|   Diesel|\n",
      "|vitara brezza|   Diesel|\n",
      "|         ciaz|   Petrol|\n",
      "|      s cross|   Diesel|\n",
      "|         ciaz|   Diesel|\n",
      "|         ciaz|   Diesel|\n",
      "|     alto 800|   Petrol|\n",
      "|         ciaz|   Diesel|\n",
      "|         ciaz|   Petrol|\n",
      "|       ertiga|   Petrol|\n",
      "|        dzire|   Petrol|\n",
      "|       ertiga|   Diesel|\n",
      "|       ertiga|   Diesel|\n",
      "|       ertiga|   Diesel|\n",
      "|      wagon r|      CNG|\n",
      "|          sx4|   Petrol|\n",
      "+-------------+---------+\n",
      "only showing top 20 rows\n",
      "\n"
     ]
    }
   ],
   "source": [
    "# Selecting multiple column\n",
    "dataset.select(['Car_Name', 'Fuel_Type']).show()\n"
   ]
  },
  {
   "cell_type": "code",
   "execution_count": null,
   "metadata": {},
   "outputs": [],
   "source": []
  },
  {
   "cell_type": "markdown",
   "metadata": {},
   "source": [
    "##### Selecting column with value chagne"
   ]
  },
  {
   "cell_type": "code",
   "execution_count": 13,
   "metadata": {},
   "outputs": [
    {
     "name": "stdout",
     "output_type": "stream",
     "text": [
      "+------------+-----+\n",
      "|Transmission|Owner|\n",
      "+------------+-----+\n",
      "|      Manual|    0|\n",
      "|      Manual|    0|\n",
      "|      Manual|    0|\n",
      "|      Manual|    0|\n",
      "|      Manual|    0|\n",
      "+------------+-----+\n",
      "only showing top 5 rows\n",
      "\n"
     ]
    }
   ],
   "source": [
    "#original value\n",
    "dataset.select(['Transmission', 'Owner']).show(5)\n"
   ]
  },
  {
   "cell_type": "code",
   "execution_count": 14,
   "metadata": {},
   "outputs": [
    {
     "name": "stdout",
     "output_type": "stream",
     "text": [
      "+------------+-----------+\n",
      "|Transmission|(Owner + 1)|\n",
      "+------------+-----------+\n",
      "|      Manual|          1|\n",
      "|      Manual|          1|\n",
      "|      Manual|          1|\n",
      "|      Manual|          1|\n",
      "|      Manual|          1|\n",
      "+------------+-----------+\n",
      "only showing top 5 rows\n",
      "\n"
     ]
    }
   ],
   "source": [
    "#with changed value\n",
    "dataset.select(dataset['Transmission'], dataset['Owner']+1).show(5)\n"
   ]
  },
  {
   "cell_type": "code",
   "execution_count": null,
   "metadata": {},
   "outputs": [],
   "source": []
  },
  {
   "cell_type": "markdown",
   "metadata": {},
   "source": [
    "##### Filterring data"
   ]
  },
  {
   "cell_type": "code",
   "execution_count": 15,
   "metadata": {},
   "outputs": [
    {
     "name": "stdout",
     "output_type": "stream",
     "text": [
      "+-------------+----+-------------+-------------+----------+---------+-----------+------------+-----+\n",
      "|     Car_Name|Year|Selling_Price|Present_Price|Kms_Driven|Fuel_Type|Seller_Type|Transmission|Owner|\n",
      "+-------------+----+-------------+-------------+----------+---------+-----------+------------+-----+\n",
      "|vitara brezza|2018|         9.25|         9.83|      2071|   Diesel|     Dealer|      Manual|    0|\n",
      "+-------------+----+-------------+-------------+----------+---------+-----------+------------+-----+\n",
      "\n"
     ]
    }
   ],
   "source": [
    "# single filtering\n",
    "dataset.filter(dataset['Year']>2017).show()\n"
   ]
  },
  {
   "cell_type": "code",
   "execution_count": null,
   "metadata": {},
   "outputs": [],
   "source": []
  },
  {
   "cell_type": "markdown",
   "metadata": {},
   "source": [
    "##### Filtering with &"
   ]
  },
  {
   "cell_type": "code",
   "execution_count": 16,
   "metadata": {},
   "outputs": [
    {
     "name": "stdout",
     "output_type": "stream",
     "text": [
      "+-------------+----+-------------+-------------+----------+---------+-----------+------------+-----+\n",
      "|     Car_Name|Year|Selling_Price|Present_Price|Kms_Driven|Fuel_Type|Seller_Type|Transmission|Owner|\n",
      "+-------------+----+-------------+-------------+----------+---------+-----------+------------+-----+\n",
      "|         ciaz|2017|         7.25|         9.85|      6900|   Petrol|     Dealer|      Manual|    0|\n",
      "|vitara brezza|2018|         9.25|         9.83|      2071|   Diesel|     Dealer|      Manual|    0|\n",
      "|     alto 800|2017|         2.85|          3.6|      2135|   Petrol|     Dealer|      Manual|    0|\n",
      "|        ignis|2017|          4.9|         5.71|      2400|   Petrol|     Dealer|      Manual|    0|\n",
      "|         ciaz|2017|         7.75|         9.29|     37000|   Petrol|     Dealer|   Automatic|    0|\n",
      "|       innova|2017|         18.0|        19.77|     15000|   Diesel|     Dealer|   Automatic|    0|\n",
      "|     fortuner|2017|         33.0|        36.23|      6000|   Diesel|     Dealer|   Automatic|    0|\n",
      "|       innova|2017|        19.75|        23.15|     11000|   Petrol|     Dealer|   Automatic|    0|\n",
      "|       innova|2017|         23.0|        25.39|     15000|   Diesel|     Dealer|   Automatic|    0|\n",
      "|corolla altis|2017|         17.0|        18.64|      8700|   Petrol|     Dealer|      Manual|    0|\n",
      "|        xcent|2017|         5.75|         7.13|     12479|   Petrol|     Dealer|      Manual|    0|\n",
      "|          i20|2017|          7.9|          8.1|      3435|   Petrol|     Dealer|      Manual|    0|\n",
      "|    grand i10|2017|         5.25|          5.7|     20114|   Petrol|     Dealer|      Manual|    0|\n",
      "|          eon|2017|          3.5|         4.43|     38488|   Petrol|     Dealer|      Manual|    0|\n",
      "|        verna|2017|         9.25|          9.4|     15001|   Petrol|     Dealer|      Manual|    0|\n",
      "|        verna|2017|          9.1|          9.4|     15141|   Petrol|     Dealer|      Manual|    0|\n",
      "|         jazz|2017|          6.5|          8.7|     21200|   Petrol|     Dealer|      Manual|    0|\n",
      "|         brio|2017|          4.8|          5.8|     19000|   Petrol|     Dealer|      Manual|    0|\n",
      "|         city|2017|         11.5|         12.5|      9000|   Diesel|     Dealer|      Manual|    0|\n",
      "+-------------+----+-------------+-------------+----------+---------+-----------+------------+-----+\n",
      "\n"
     ]
    }
   ],
   "source": [
    "#multiple filtering search\n",
    "dataset.filter((dataset['Year']>2016) & (dataset['Seller_Type']=='Dealer')).show()\n"
   ]
  },
  {
   "cell_type": "code",
   "execution_count": 17,
   "metadata": {},
   "outputs": [
    {
     "name": "stdout",
     "output_type": "stream",
     "text": [
      "+--------+----+-------------+-------------+----------+---------+-----------+------------+-----+\n",
      "|Car_Name|Year|Selling_Price|Present_Price|Kms_Driven|Fuel_Type|Seller_Type|Transmission|Owner|\n",
      "+--------+----+-------------+-------------+----------+---------+-----------+------------+-----+\n",
      "|fortuner|2017|         33.0|        36.23|      6000|   Diesel|     Dealer|   Automatic|    0|\n",
      "+--------+----+-------------+-------------+----------+---------+-----------+------------+-----+\n",
      "\n"
     ]
    }
   ],
   "source": [
    "#multiple filtering search\n",
    "dataset.filter((dataset['Year']>2016) & (dataset['Seller_Type']=='Dealer') & (dataset['Present_Price']>30)).show()\n"
   ]
  },
  {
   "cell_type": "code",
   "execution_count": null,
   "metadata": {},
   "outputs": [],
   "source": []
  },
  {
   "cell_type": "markdown",
   "metadata": {},
   "source": [
    "##### Filtering with or"
   ]
  },
  {
   "cell_type": "code",
   "execution_count": 18,
   "metadata": {},
   "outputs": [
    {
     "name": "stdout",
     "output_type": "stream",
     "text": [
      "+--------------------+----+-------------+-------------+----------+---------+-----------+------------+-----+\n",
      "|            Car_Name|Year|Selling_Price|Present_Price|Kms_Driven|Fuel_Type|Seller_Type|Transmission|Owner|\n",
      "+--------------------+----+-------------+-------------+----------+---------+-----------+------------+-----+\n",
      "|                ciaz|2016|         8.75|         8.89|     20273|   Diesel|     Dealer|      Manual|    0|\n",
      "|              ertiga|2016|         7.75|        10.79|     43000|   Diesel|     Dealer|      Manual|    0|\n",
      "|              ertiga|2016|         7.75|        10.79|     43000|   Diesel|     Dealer|      Manual|    0|\n",
      "|            alto k10|2016|         2.85|         3.95|     25000|   Petrol|     Dealer|      Manual|    0|\n",
      "|            alto k10|2016|          3.0|         3.76|     10079|   Petrol|     Dealer|      Manual|    0|\n",
      "|              baleno|2016|         5.85|         7.87|     24524|   Petrol|     Dealer|   Automatic|    0|\n",
      "|       corolla altis|2016|        14.25|        20.91|     12000|   Petrol|     Dealer|      Manual|    0|\n",
      "|       corolla altis|2016|        14.73|        14.89|     23000|   Diesel|     Dealer|      Manual|    0|\n",
      "|       corolla altis|2008|          4.0|        22.78|     89000|   Petrol|     Dealer|   Automatic|    0|\n",
      "|              innova|2016|        20.75|        25.39|     29000|   Diesel|     Dealer|   Automatic|    0|\n",
      "|Royal Enfield Thu...|2016|         1.75|          1.9|      3000|   Petrol| Individual|      Manual|    0|\n",
      "|Royal Enfield Thu...|2016|          1.2|          1.5|     18000|   Petrol| Individual|      Manual|    0|\n",
      "|           KTM RC200|2016|          1.2|         1.78|      6000|   Petrol| Individual|      Manual|    0|\n",
      "|Royal Enfield Thu...|2016|         1.15|          1.5|      8700|   Petrol| Individual|      Manual|    0|\n",
      "| Mahindra Mojo XT300|2016|         1.15|          1.4|     35000|   Petrol| Individual|      Manual|    0|\n",
      "|  Bajaj Pulsar RS200|2016|         1.05|         1.26|      5700|   Petrol| Individual|      Manual|    0|\n",
      "|Royal Enfield Bul...|2016|         1.05|         1.17|      6000|   Petrol| Individual|      Manual|    0|\n",
      "|   Bajaj Avenger 150|2016|         0.75|          0.8|      7000|   Petrol| Individual|      Manual|    0|\n",
      "|   Bajaj Avenger 220|2016|         0.72|         0.95|       500|   Petrol| Individual|      Manual|    0|\n",
      "|Honda CB Hornet 160R|2016|          0.6|         0.87|     15000|   Petrol| Individual|      Manual|    0|\n",
      "+--------------------+----+-------------+-------------+----------+---------+-----------+------------+-----+\n",
      "only showing top 20 rows\n",
      "\n"
     ]
    }
   ],
   "source": [
    "# multiple filtering search\n",
    "dataset.filter((dataset['Year']==2016) | (dataset['Selling_Price']==4)).show()\n"
   ]
  },
  {
   "cell_type": "code",
   "execution_count": 19,
   "metadata": {},
   "outputs": [
    {
     "name": "stdout",
     "output_type": "stream",
     "text": [
      "+-------------+----+-------------+-------------+----------+---------+-----------+------------+-----+\n",
      "|     Car_Name|Year|Selling_Price|Present_Price|Kms_Driven|Fuel_Type|Seller_Type|Transmission|Owner|\n",
      "+-------------+----+-------------+-------------+----------+---------+-----------+------------+-----+\n",
      "|         ritz|2014|         3.35|         5.59|     27000|   Petrol|     Dealer|      Manual|    0|\n",
      "|          sx4|2013|         4.75|         9.54|     43000|   Diesel|     Dealer|      Manual|    0|\n",
      "|         ciaz|2017|         7.25|         9.85|      6900|   Petrol|     Dealer|      Manual|    0|\n",
      "|      wagon r|2011|         2.85|         4.15|      5200|   Petrol|     Dealer|      Manual|    0|\n",
      "|        swift|2014|          4.6|         6.87|     42450|   Diesel|     Dealer|      Manual|    0|\n",
      "|vitara brezza|2018|         9.25|         9.83|      2071|   Diesel|     Dealer|      Manual|    0|\n",
      "|         ciaz|2015|         6.75|         8.12|     18796|   Petrol|     Dealer|      Manual|    0|\n",
      "|      s cross|2015|          6.5|         8.61|     33429|   Diesel|     Dealer|      Manual|    0|\n",
      "|         ciaz|2016|         8.75|         8.89|     20273|   Diesel|     Dealer|      Manual|    0|\n",
      "|         ciaz|2015|         7.45|         8.92|     42367|   Diesel|     Dealer|      Manual|    0|\n",
      "|     alto 800|2017|         2.85|          3.6|      2135|   Petrol|     Dealer|      Manual|    0|\n",
      "|         ciaz|2015|         6.85|        10.38|     51000|   Diesel|     Dealer|      Manual|    0|\n",
      "|         ciaz|2015|          7.5|         9.94|     15000|   Petrol|     Dealer|   Automatic|    0|\n",
      "|       ertiga|2015|          6.1|         7.71|     26000|   Petrol|     Dealer|      Manual|    0|\n",
      "|        dzire|2009|         2.25|         7.21|     77427|   Petrol|     Dealer|      Manual|    0|\n",
      "|       ertiga|2016|         7.75|        10.79|     43000|   Diesel|     Dealer|      Manual|    0|\n",
      "|       ertiga|2015|         7.25|        10.79|     41678|   Diesel|     Dealer|      Manual|    0|\n",
      "|       ertiga|2016|         7.75|        10.79|     43000|   Diesel|     Dealer|      Manual|    0|\n",
      "|      wagon r|2015|         3.25|         5.09|     35500|      CNG|     Dealer|      Manual|    0|\n",
      "|          sx4|2010|         2.65|         7.98|     41442|   Petrol|     Dealer|      Manual|    0|\n",
      "+-------------+----+-------------+-------------+----------+---------+-----------+------------+-----+\n",
      "only showing top 20 rows\n",
      "\n"
     ]
    }
   ],
   "source": [
    "#multiple filtering search\n",
    "dataset.filter((dataset['Year']>2020) | (dataset['Seller_Type']=='Dealer') | (dataset['Present_Price']==30)).show()\n"
   ]
  },
  {
   "cell_type": "code",
   "execution_count": null,
   "metadata": {},
   "outputs": [],
   "source": []
  },
  {
   "cell_type": "markdown",
   "metadata": {},
   "source": [
    "##### Grouping"
   ]
  },
  {
   "cell_type": "code",
   "execution_count": 20,
   "metadata": {},
   "outputs": [
    {
     "name": "stdout",
     "output_type": "stream",
     "text": [
      "+---------+-----+\n",
      "|Fuel_Type|count|\n",
      "+---------+-----+\n",
      "|   Diesel|   60|\n",
      "|      CNG|    2|\n",
      "|   Petrol|  239|\n",
      "+---------+-----+\n",
      "\n"
     ]
    }
   ],
   "source": [
    "#single column grouping\n",
    "dataset.groupBy('Fuel_Type').count().show()\n"
   ]
  },
  {
   "cell_type": "code",
   "execution_count": 21,
   "metadata": {},
   "outputs": [
    {
     "name": "stdout",
     "output_type": "stream",
     "text": [
      "+---------+------------+-----+\n",
      "|Fuel_Type|Transmission|count|\n",
      "+---------+------------+-----+\n",
      "|   Petrol|   Automatic|   28|\n",
      "|   Diesel|      Manual|   48|\n",
      "|      CNG|      Manual|    2|\n",
      "|   Petrol|      Manual|  211|\n",
      "|   Diesel|   Automatic|   12|\n",
      "+---------+------------+-----+\n",
      "\n"
     ]
    }
   ],
   "source": [
    "# multiple column grouping\n",
    "dataset.groupBy(['Fuel_Type', 'Transmission']).count().show()\n"
   ]
  },
  {
   "cell_type": "code",
   "execution_count": 22,
   "metadata": {},
   "outputs": [
    {
     "name": "stdout",
     "output_type": "stream",
     "text": [
      "+---------+------------+---------+------------------+------------------+---------------+----------+\n",
      "|Fuel_Type|Transmission|sum(Year)|sum(Selling_Price)|sum(Present_Price)|sum(Kms_Driven)|sum(Owner)|\n",
      "+---------+------------+---------+------------------+------------------+---------------+----------+\n",
      "|   Petrol|   Automatic|    56368|128.41000000000003|244.90999999999997|        1482812|         3|\n",
      "|   Diesel|      Manual|    96663|            368.32|            581.16|        2382488|         1|\n",
      "|      CNG|      Manual|     4026|               6.2|             12.83|          85498|         0|\n",
      "|   Petrol|      Manual|   424868| 651.7299999999997|           1089.56|        6530604|         9|\n",
      "|   Diesel|   Automatic|    24177|            248.39|            367.71|         639707|         0|\n",
      "+---------+------------+---------+------------------+------------------+---------------+----------+\n",
      "\n"
     ]
    }
   ],
   "source": [
    "# multiple column grouping\n",
    "dataset.groupBy(['Fuel_Type', 'Transmission']).sum().show()\n"
   ]
  },
  {
   "cell_type": "code",
   "execution_count": null,
   "metadata": {},
   "outputs": [],
   "source": []
  },
  {
   "cell_type": "markdown",
   "metadata": {},
   "source": [
    "### Using SQL Query"
   ]
  },
  {
   "cell_type": "code",
   "execution_count": 23,
   "metadata": {},
   "outputs": [],
   "source": [
    "dataset = spark.read.csv('/home/hasan/DATA SET/datasets_33080_43333_car data.csv', header=True)\n"
   ]
  },
  {
   "cell_type": "code",
   "execution_count": 24,
   "metadata": {},
   "outputs": [
    {
     "name": "stdout",
     "output_type": "stream",
     "text": [
      "+--------+----+-------------+-------------+----------+---------+-----------+------------+-----+\n",
      "|Car_Name|Year|Selling_Price|Present_Price|Kms_Driven|Fuel_Type|Seller_Type|Transmission|Owner|\n",
      "+--------+----+-------------+-------------+----------+---------+-----------+------------+-----+\n",
      "|    ritz|2014|         3.35|         5.59|     27000|   Petrol|     Dealer|      Manual|    0|\n",
      "|     sx4|2013|         4.75|         9.54|     43000|   Diesel|     Dealer|      Manual|    0|\n",
      "|    ciaz|2017|         7.25|         9.85|      6900|   Petrol|     Dealer|      Manual|    0|\n",
      "| wagon r|2011|         2.85|         4.15|      5200|   Petrol|     Dealer|      Manual|    0|\n",
      "|   swift|2014|          4.6|         6.87|     42450|   Diesel|     Dealer|      Manual|    0|\n",
      "+--------+----+-------------+-------------+----------+---------+-----------+------------+-----+\n",
      "only showing top 5 rows\n",
      "\n"
     ]
    }
   ],
   "source": [
    "dataset.show(5)\n"
   ]
  },
  {
   "cell_type": "code",
   "execution_count": 25,
   "metadata": {},
   "outputs": [
    {
     "name": "stdout",
     "output_type": "stream",
     "text": [
      "root\n",
      " |-- Car_Name: string (nullable = true)\n",
      " |-- Year: string (nullable = true)\n",
      " |-- Selling_Price: string (nullable = true)\n",
      " |-- Present_Price: string (nullable = true)\n",
      " |-- Kms_Driven: string (nullable = true)\n",
      " |-- Fuel_Type: string (nullable = true)\n",
      " |-- Seller_Type: string (nullable = true)\n",
      " |-- Transmission: string (nullable = true)\n",
      " |-- Owner: string (nullable = true)\n",
      "\n"
     ]
    }
   ],
   "source": [
    "dataset.printSchema()\n"
   ]
  },
  {
   "cell_type": "code",
   "execution_count": null,
   "metadata": {},
   "outputs": [],
   "source": []
  },
  {
   "cell_type": "code",
   "execution_count": 26,
   "metadata": {},
   "outputs": [],
   "source": [
    "# Register the DataFrame as a SQL temporary view\n",
    "dataset.createOrReplaceTempView(\"car_dataset\")\n"
   ]
  },
  {
   "cell_type": "markdown",
   "metadata": {},
   "source": [
    "### How to select Column in SQL"
   ]
  },
  {
   "cell_type": "code",
   "execution_count": 27,
   "metadata": {},
   "outputs": [
    {
     "name": "stdout",
     "output_type": "stream",
     "text": [
      "+-------------+----+-------------+-------------+----------+---------+-----------+------------+-----+\n",
      "|     Car_Name|Year|Selling_Price|Present_Price|Kms_Driven|Fuel_Type|Seller_Type|Transmission|Owner|\n",
      "+-------------+----+-------------+-------------+----------+---------+-----------+------------+-----+\n",
      "|         ritz|2014|         3.35|         5.59|     27000|   Petrol|     Dealer|      Manual|    0|\n",
      "|          sx4|2013|         4.75|         9.54|     43000|   Diesel|     Dealer|      Manual|    0|\n",
      "|         ciaz|2017|         7.25|         9.85|      6900|   Petrol|     Dealer|      Manual|    0|\n",
      "|      wagon r|2011|         2.85|         4.15|      5200|   Petrol|     Dealer|      Manual|    0|\n",
      "|        swift|2014|          4.6|         6.87|     42450|   Diesel|     Dealer|      Manual|    0|\n",
      "|vitara brezza|2018|         9.25|         9.83|      2071|   Diesel|     Dealer|      Manual|    0|\n",
      "|         ciaz|2015|         6.75|         8.12|     18796|   Petrol|     Dealer|      Manual|    0|\n",
      "|      s cross|2015|          6.5|         8.61|     33429|   Diesel|     Dealer|      Manual|    0|\n",
      "|         ciaz|2016|         8.75|         8.89|     20273|   Diesel|     Dealer|      Manual|    0|\n",
      "|         ciaz|2015|         7.45|         8.92|     42367|   Diesel|     Dealer|      Manual|    0|\n",
      "|     alto 800|2017|         2.85|          3.6|      2135|   Petrol|     Dealer|      Manual|    0|\n",
      "|         ciaz|2015|         6.85|        10.38|     51000|   Diesel|     Dealer|      Manual|    0|\n",
      "|         ciaz|2015|          7.5|         9.94|     15000|   Petrol|     Dealer|   Automatic|    0|\n",
      "|       ertiga|2015|          6.1|         7.71|     26000|   Petrol|     Dealer|      Manual|    0|\n",
      "|        dzire|2009|         2.25|         7.21|     77427|   Petrol|     Dealer|      Manual|    0|\n",
      "|       ertiga|2016|         7.75|        10.79|     43000|   Diesel|     Dealer|      Manual|    0|\n",
      "|       ertiga|2015|         7.25|        10.79|     41678|   Diesel|     Dealer|      Manual|    0|\n",
      "|       ertiga|2016|         7.75|        10.79|     43000|   Diesel|     Dealer|      Manual|    0|\n",
      "|      wagon r|2015|         3.25|         5.09|     35500|      CNG|     Dealer|      Manual|    0|\n",
      "|          sx4|2010|         2.65|         7.98|     41442|   Petrol|     Dealer|      Manual|    0|\n",
      "+-------------+----+-------------+-------------+----------+---------+-----------+------------+-----+\n",
      "only showing top 20 rows\n",
      "\n"
     ]
    }
   ],
   "source": [
    "#selecting all column\n",
    "spark.sql(\"select * from car_dataset\").show()\n"
   ]
  },
  {
   "cell_type": "code",
   "execution_count": 28,
   "metadata": {},
   "outputs": [
    {
     "name": "stdout",
     "output_type": "stream",
     "text": [
      "+-------------+\n",
      "|     Car_Name|\n",
      "+-------------+\n",
      "|         ritz|\n",
      "|          sx4|\n",
      "|         ciaz|\n",
      "|      wagon r|\n",
      "|        swift|\n",
      "|vitara brezza|\n",
      "|         ciaz|\n",
      "|      s cross|\n",
      "|         ciaz|\n",
      "|         ciaz|\n",
      "|     alto 800|\n",
      "|         ciaz|\n",
      "|         ciaz|\n",
      "|       ertiga|\n",
      "|        dzire|\n",
      "|       ertiga|\n",
      "|       ertiga|\n",
      "|       ertiga|\n",
      "|      wagon r|\n",
      "|          sx4|\n",
      "+-------------+\n",
      "only showing top 20 rows\n",
      "\n"
     ]
    }
   ],
   "source": [
    "#selecting a column\n",
    "spark.sql(\"select Car_Name from car_dataset\").show()\n"
   ]
  },
  {
   "cell_type": "code",
   "execution_count": 29,
   "metadata": {},
   "outputs": [
    {
     "name": "stdout",
     "output_type": "stream",
     "text": [
      "+-------------+-------------+\n",
      "|Selling_Price|Present_Price|\n",
      "+-------------+-------------+\n",
      "|         3.35|         5.59|\n",
      "|         4.75|         9.54|\n",
      "|         7.25|         9.85|\n",
      "|         2.85|         4.15|\n",
      "|          4.6|         6.87|\n",
      "|         9.25|         9.83|\n",
      "|         6.75|         8.12|\n",
      "|          6.5|         8.61|\n",
      "|         8.75|         8.89|\n",
      "|         7.45|         8.92|\n",
      "|         2.85|          3.6|\n",
      "|         6.85|        10.38|\n",
      "|          7.5|         9.94|\n",
      "|          6.1|         7.71|\n",
      "|         2.25|         7.21|\n",
      "|         7.75|        10.79|\n",
      "|         7.25|        10.79|\n",
      "|         7.75|        10.79|\n",
      "|         3.25|         5.09|\n",
      "|         2.65|         7.98|\n",
      "+-------------+-------------+\n",
      "only showing top 20 rows\n",
      "\n"
     ]
    }
   ],
   "source": [
    "#selecting two column\n",
    "spark.sql(\"select Selling_Price,Present_Price from car_dataset\").show()\n"
   ]
  },
  {
   "cell_type": "code",
   "execution_count": null,
   "metadata": {},
   "outputs": [],
   "source": []
  },
  {
   "cell_type": "markdown",
   "metadata": {},
   "source": [
    "### Use of where in SQL"
   ]
  },
  {
   "cell_type": "code",
   "execution_count": 30,
   "metadata": {},
   "outputs": [
    {
     "name": "stdout",
     "output_type": "stream",
     "text": [
      "+----+\n",
      "|Year|\n",
      "+----+\n",
      "|2014|\n",
      "|2014|\n",
      "|2014|\n",
      "|2014|\n",
      "|2014|\n",
      "|2014|\n",
      "|2014|\n",
      "|2014|\n",
      "|2014|\n",
      "|2014|\n",
      "|2014|\n",
      "|2014|\n",
      "|2014|\n",
      "|2014|\n",
      "|2014|\n",
      "|2014|\n",
      "|2014|\n",
      "|2014|\n",
      "|2014|\n",
      "|2014|\n",
      "+----+\n",
      "only showing top 20 rows\n",
      "\n"
     ]
    }
   ],
   "source": [
    "#selecting a specific value\n",
    "spark.sql(\"select Year from car_dataset where Year==2014\").show()\n"
   ]
  },
  {
   "cell_type": "code",
   "execution_count": 31,
   "metadata": {},
   "outputs": [
    {
     "name": "stdout",
     "output_type": "stream",
     "text": [
      "+----+-------------+\n",
      "|Year|Present_Price|\n",
      "+----+-------------+\n",
      "|2014|         5.59|\n",
      "|2014|         6.87|\n",
      "|2014|         3.46|\n",
      "|2014|         7.49|\n",
      "|2014|         9.95|\n",
      "|2014|         8.06|\n",
      "|2014|         3.98|\n",
      "|2014|         8.06|\n",
      "|2014|        12.04|\n",
      "|2014|          6.8|\n",
      "|2014|        35.96|\n",
      "|2014|        35.96|\n",
      "|2014|         6.95|\n",
      "|2014|         6.76|\n",
      "|2014|         8.93|\n",
      "|2014|         6.76|\n",
      "|2014|        16.09|\n",
      "|2014|         3.45|\n",
      "|2014|          2.4|\n",
      "|2014|          1.2|\n",
      "+----+-------------+\n",
      "only showing top 20 rows\n",
      "\n"
     ]
    }
   ],
   "source": [
    "#price in specific year\n",
    "spark.sql(\"select Year,Present_Price from car_dataset where Year==2014\").show()\n"
   ]
  },
  {
   "cell_type": "code",
   "execution_count": 32,
   "metadata": {},
   "outputs": [
    {
     "name": "stdout",
     "output_type": "stream",
     "text": [
      "+----+-----------+\n",
      "|Year|Seller_Type|\n",
      "+----+-----------+\n",
      "|2014|     Dealer|\n",
      "|2014|     Dealer|\n",
      "|2014|     Dealer|\n",
      "|2014|     Dealer|\n",
      "|2014|     Dealer|\n",
      "|2014|     Dealer|\n",
      "|2014|     Dealer|\n",
      "|2014|     Dealer|\n",
      "|2014|     Dealer|\n",
      "|2014|     Dealer|\n",
      "|2014|     Dealer|\n",
      "|2014|     Dealer|\n",
      "|2014|     Dealer|\n",
      "|2014|     Dealer|\n",
      "|2014|     Dealer|\n",
      "|2014|     Dealer|\n",
      "|2014|     Dealer|\n",
      "|2014|     Dealer|\n",
      "|2014|     Dealer|\n",
      "|2014|     Dealer|\n",
      "+----+-----------+\n",
      "only showing top 20 rows\n",
      "\n"
     ]
    }
   ],
   "source": [
    "# advance filtering\n",
    "spark.sql(\"select Year,Seller_Type from car_dataset where (Year==2014 AND Seller_Type=='Dealer')\").show()\n"
   ]
  },
  {
   "cell_type": "code",
   "execution_count": 33,
   "metadata": {},
   "outputs": [
    {
     "name": "stdout",
     "output_type": "stream",
     "text": [
      "+----+-----------+----------+\n",
      "|Year|Seller_Type|Kms_Driven|\n",
      "+----+-----------+----------+\n",
      "|2015|     Dealer|     51000|\n",
      "|2015|     Dealer|     61381|\n",
      "|2015|     Dealer|     68000|\n",
      "|2015|     Dealer|     60076|\n",
      "|2015|     Dealer|     60000|\n",
      "+----+-----------+----------+\n",
      "\n"
     ]
    }
   ],
   "source": [
    "# advance filtering\n",
    "spark.sql(\"select Year,Seller_Type,Kms_Driven from car_dataset where (Year==2015 AND Seller_Type=='Dealer' AND Kms_Driven>50000)\").show()\n"
   ]
  },
  {
   "cell_type": "code",
   "execution_count": null,
   "metadata": {},
   "outputs": [],
   "source": []
  },
  {
   "cell_type": "markdown",
   "metadata": {},
   "source": [
    "### Statistical SQL"
   ]
  },
  {
   "cell_type": "code",
   "execution_count": 34,
   "metadata": {},
   "outputs": [
    {
     "name": "stdout",
     "output_type": "stream",
     "text": [
      "+----------------------------------+\n",
      "|sum(CAST(Present_Price AS DOUBLE))|\n",
      "+----------------------------------+\n",
      "|                2296.1700000000005|\n",
      "+----------------------------------+\n",
      "\n"
     ]
    }
   ],
   "source": [
    "# summation of Present_Price\n",
    "spark.sql(\"select SUM(Present_Price) from car_dataset\").show()\n"
   ]
  },
  {
   "cell_type": "code",
   "execution_count": 35,
   "metadata": {},
   "outputs": [
    {
     "name": "stdout",
     "output_type": "stream",
     "text": [
      "+------------------+\n",
      "|max(Present_Price)|\n",
      "+------------------+\n",
      "|              92.6|\n",
      "+------------------+\n",
      "\n"
     ]
    }
   ],
   "source": [
    "# Maximum of Present_Price\n",
    "spark.sql(\"select MAX(Present_Price) from car_dataset\").show()\n"
   ]
  },
  {
   "cell_type": "code",
   "execution_count": 36,
   "metadata": {},
   "outputs": [
    {
     "name": "stdout",
     "output_type": "stream",
     "text": [
      "+----------------------------------+\n",
      "|avg(CAST(Present_Price AS DOUBLE))|\n",
      "+----------------------------------+\n",
      "|                 7.628471760797344|\n",
      "+----------------------------------+\n",
      "\n"
     ]
    }
   ],
   "source": [
    "# average of Present_Price\n",
    "spark.sql(\"select AVG(Present_Price) from car_dataset\").show()\n"
   ]
  },
  {
   "cell_type": "code",
   "execution_count": 37,
   "metadata": {},
   "outputs": [
    {
     "name": "stdout",
     "output_type": "stream",
     "text": [
      "+---------+\n",
      "|Fuel_Type|\n",
      "+---------+\n",
      "|   Diesel|\n",
      "|      CNG|\n",
      "|   Petrol|\n",
      "+---------+\n",
      "\n"
     ]
    }
   ],
   "source": [
    "#printing distinct element of a column\n",
    "spark.sql(\"select DISTINCT Fuel_Type from car_dataset \").show()\n"
   ]
  },
  {
   "cell_type": "code",
   "execution_count": 38,
   "metadata": {},
   "outputs": [
    {
     "name": "stdout",
     "output_type": "stream",
     "text": [
      "+----------------------------------+\n",
      "|sum(CAST(Present_Price AS DOUBLE))|\n",
      "+----------------------------------+\n",
      "|                 499.1000000000001|\n",
      "+----------------------------------+\n",
      "\n"
     ]
    }
   ],
   "source": [
    "#printing distinct element of a column\n",
    "spark.sql(\" select SUM(Present_Price) from car_dataset where Year=2015 \").show()\n"
   ]
  },
  {
   "cell_type": "markdown",
   "metadata": {},
   "source": [
    "### Some Complex query"
   ]
  },
  {
   "cell_type": "code",
   "execution_count": 39,
   "metadata": {},
   "outputs": [
    {
     "name": "stdout",
     "output_type": "stream",
     "text": [
      "+----------------------------------+\n",
      "|sum(CAST(Present_Price AS DOUBLE))|\n",
      "+----------------------------------+\n",
      "|                216.89999999999995|\n",
      "+----------------------------------+\n",
      "\n"
     ]
    }
   ],
   "source": [
    "#printing price of some specific car\n",
    "spark.sql(\" select SUM(Present_Price) from car_dataset where Car_Name IN ('ritz','sx4','ciaz','wagon r','swift','vitara brezza') \").show()\n"
   ]
  },
  {
   "cell_type": "code",
   "execution_count": 40,
   "metadata": {},
   "outputs": [
    {
     "name": "stdout",
     "output_type": "stream",
     "text": [
      "+-------------+----------------------------------+\n",
      "|     Car_Name|sum(CAST(Present_Price AS DOUBLE))|\n",
      "+-------------+----------------------------------+\n",
      "|corolla altis|                            281.32|\n",
      "|      wagon r|                              17.8|\n",
      "|  etios cross|                              23.9|\n",
      "|        creta|                              40.8|\n",
      "|          i10|                             22.83|\n",
      "| land cruiser|                              92.6|\n",
      "|       ertiga|                             57.74|\n",
      "|         brio|                             60.44|\n",
      "|        amaze|                 47.49999999999999|\n",
      "|       baleno|                              7.87|\n",
      "|         ciaz|                             87.81|\n",
      "|        dzire|                             30.53|\n",
      "|      s cross|                              8.61|\n",
      "|      corolla|                             12.35|\n",
      "|         city|                            306.59|\n",
      "|          sx4|                              48.4|\n",
      "|      etios g|                             20.36|\n",
      "|         jazz|                57.099999999999994|\n",
      "|          i20|                             64.85|\n",
      "|vitara brezza|                              9.83|\n",
      "+-------------+----------------------------------+\n",
      "only showing top 20 rows\n",
      "\n"
     ]
    }
   ],
   "source": [
    "#printing price of some specific car\n",
    "spark.sql(\" select Car_Name, SUM(Present_Price) from car_dataset where Present_Price>3 Group By Car_Name \").show()\n"
   ]
  },
  {
   "cell_type": "code",
   "execution_count": 41,
   "metadata": {},
   "outputs": [
    {
     "name": "stdout",
     "output_type": "stream",
     "text": [
      "+--------------+\n",
      "|      Car_Name|\n",
      "+--------------+\n",
      "|          ritz|\n",
      "|         swift|\n",
      "|      alto k10|\n",
      "|         swift|\n",
      "|        ertiga|\n",
      "|         dzire|\n",
      "|      alto k10|\n",
      "|         dzire|\n",
      "|          ciaz|\n",
      "|       etios g|\n",
      "|      fortuner|\n",
      "|      fortuner|\n",
      "|    etios liva|\n",
      "|    etios liva|\n",
      "|   etios cross|\n",
      "|       etios g|\n",
      "|        innova|\n",
      "|Hyosung GT250R|\n",
      "| KTM 390 Duke |\n",
      "| Honda CBR 150|\n",
      "+--------------+\n",
      "only showing top 20 rows\n",
      "\n"
     ]
    }
   ],
   "source": [
    "# multiple column with a condition\n",
    "spark.sql(\" select Car_Name from car_dataset where Year=2014\").show()\n"
   ]
  },
  {
   "cell_type": "code",
   "execution_count": 42,
   "metadata": {},
   "outputs": [
    {
     "name": "stdout",
     "output_type": "stream",
     "text": [
      "+------------------+\n",
      "|  price_difference|\n",
      "+------------------+\n",
      "|2.2399999999999998|\n",
      "| 4.789999999999999|\n",
      "|2.5999999999999996|\n",
      "|1.3000000000000003|\n",
      "|2.2700000000000005|\n",
      "+------------------+\n",
      "only showing top 5 rows\n",
      "\n"
     ]
    }
   ],
   "source": [
    "# multiple column with a condition\n",
    "spark.sql(\" select (Present_Price - Selling_Price) as price_difference from car_dataset \").show(5)\n"
   ]
  },
  {
   "cell_type": "code",
   "execution_count": 43,
   "metadata": {},
   "outputs": [
    {
     "name": "stdout",
     "output_type": "stream",
     "text": [
      "+------------+------------------+\n",
      "|maximum_year|seller_type_number|\n",
      "+------------+------------------+\n",
      "|        2018|               301|\n",
      "+------------+------------------+\n",
      "\n"
     ]
    }
   ],
   "source": [
    "# filterring with column name\n",
    "spark.sql(\"select max(Year) as maximum_year, count(Seller_Type) as seller_type_number from car_dataset\").show()\n"
   ]
  },
  {
   "cell_type": "code",
   "execution_count": 44,
   "metadata": {},
   "outputs": [
    {
     "name": "stdout",
     "output_type": "stream",
     "text": [
      "+------------+------------------+\n",
      "|maximum_year|seller_type_number|\n",
      "+------------+------------------+\n",
      "|        2018|                60|\n",
      "+------------+------------------+\n",
      "\n"
     ]
    }
   ],
   "source": [
    "# filterring with column name\n",
    "spark.sql(\"select max(Year) as maximum_year, count(Seller_Type) as seller_type_number from car_dataset where Fuel_Type=='Diesel' \").show()\n"
   ]
  },
  {
   "cell_type": "code",
   "execution_count": null,
   "metadata": {},
   "outputs": [],
   "source": []
  },
  {
   "cell_type": "markdown",
   "metadata": {},
   "source": [
    "### use of concat"
   ]
  },
  {
   "cell_type": "code",
   "execution_count": 45,
   "metadata": {},
   "outputs": [
    {
     "name": "stdout",
     "output_type": "stream",
     "text": [
      "+--------------------+\n",
      "|  name_and_fuel_type|\n",
      "+--------------------+\n",
      "|        ritz, Petrol|\n",
      "|         sx4, Diesel|\n",
      "|        ciaz, Petrol|\n",
      "|     wagon r, Petrol|\n",
      "|       swift, Diesel|\n",
      "|vitara brezza, Di...|\n",
      "|        ciaz, Petrol|\n",
      "|     s cross, Diesel|\n",
      "|        ciaz, Diesel|\n",
      "|        ciaz, Diesel|\n",
      "|    alto 800, Petrol|\n",
      "|        ciaz, Diesel|\n",
      "|        ciaz, Petrol|\n",
      "|      ertiga, Petrol|\n",
      "|       dzire, Petrol|\n",
      "|      ertiga, Diesel|\n",
      "|      ertiga, Diesel|\n",
      "|      ertiga, Diesel|\n",
      "|        wagon r, CNG|\n",
      "|         sx4, Petrol|\n",
      "+--------------------+\n",
      "only showing top 20 rows\n",
      "\n"
     ]
    }
   ],
   "source": [
    "# adding two column\n",
    "spark.sql(\"select concat(Car_Name,', ',Fuel_Type) as name_and_fuel_type from car_dataset\").show()\n"
   ]
  },
  {
   "cell_type": "code",
   "execution_count": null,
   "metadata": {},
   "outputs": [],
   "source": []
  },
  {
   "cell_type": "markdown",
   "metadata": {},
   "source": [
    "### Use of In and Not-in"
   ]
  },
  {
   "cell_type": "code",
   "execution_count": 48,
   "metadata": {},
   "outputs": [
    {
     "name": "stdout",
     "output_type": "stream",
     "text": [
      "+--------+---------+\n",
      "|Car_Name|Fuel_Type|\n",
      "+--------+---------+\n",
      "|     sx4|   Diesel|\n",
      "|    ciaz|   Petrol|\n",
      "| wagon r|   Petrol|\n",
      "|    ciaz|   Petrol|\n",
      "|    ciaz|   Diesel|\n",
      "|    ciaz|   Diesel|\n",
      "|    ciaz|   Diesel|\n",
      "|    ciaz|   Petrol|\n",
      "|  ertiga|   Petrol|\n",
      "|   dzire|   Petrol|\n",
      "+--------+---------+\n",
      "only showing top 10 rows\n",
      "\n"
     ]
    }
   ],
   "source": [
    "# filtering with name using in\n",
    "spark.sql(\"select Car_Name,Fuel_Type from car_dataset where Car_Name in ('ciaz','ciaz','ertiga','dzire','ertiga','ertiga','ertiga','wagon r','sx4','alto k10','ignis','sx4','alto k10')\").show(10)\n"
   ]
  },
  {
   "cell_type": "code",
   "execution_count": 49,
   "metadata": {},
   "outputs": [
    {
     "name": "stdout",
     "output_type": "stream",
     "text": [
      "+-------------+---------+\n",
      "|     Car_Name|Fuel_Type|\n",
      "+-------------+---------+\n",
      "|         ritz|   Petrol|\n",
      "|        swift|   Diesel|\n",
      "|vitara brezza|   Diesel|\n",
      "|      s cross|   Diesel|\n",
      "|     alto 800|   Petrol|\n",
      "|        swift|   Petrol|\n",
      "|        swift|   Petrol|\n",
      "|        swift|   Petrol|\n",
      "|         ritz|   Diesel|\n",
      "|         ritz|   Petrol|\n",
      "+-------------+---------+\n",
      "only showing top 10 rows\n",
      "\n"
     ]
    }
   ],
   "source": [
    "# filtering with name using not-in\n",
    "spark.sql(\"select Car_Name,Fuel_Type from car_dataset where Car_Name not in ('ciaz','ciaz','ertiga','dzire','ertiga','ertiga','ertiga','wagon r','sx4','alto k10','ignis','sx4','alto k10')\").show(10)\n"
   ]
  },
  {
   "cell_type": "code",
   "execution_count": null,
   "metadata": {},
   "outputs": [],
   "source": []
  },
  {
   "cell_type": "markdown",
   "metadata": {},
   "source": [
    "### Use of Like"
   ]
  },
  {
   "cell_type": "code",
   "execution_count": 54,
   "metadata": {},
   "outputs": [
    {
     "name": "stdout",
     "output_type": "stream",
     "text": [
      "+--------+---------+\n",
      "|Car_Name|Fuel_Type|\n",
      "+--------+---------+\n",
      "|    ciaz|   Petrol|\n",
      "|    ciaz|   Petrol|\n",
      "|    ciaz|   Diesel|\n",
      "|    ciaz|   Diesel|\n",
      "|    ciaz|   Diesel|\n",
      "|    ciaz|   Petrol|\n",
      "|    ciaz|   Diesel|\n",
      "|    ciaz|   Petrol|\n",
      "|    ciaz|   Petrol|\n",
      "|    city|   Petrol|\n",
      "+--------+---------+\n",
      "only showing top 10 rows\n",
      "\n"
     ]
    }
   ],
   "source": [
    "# filtering with name using not-in\n",
    "spark.sql(\"select Car_Name,Fuel_Type from car_dataset where Car_Name like 'ci%' \").show(10)\n"
   ]
  },
  {
   "cell_type": "code",
   "execution_count": 66,
   "metadata": {},
   "outputs": [
    {
     "name": "stdout",
     "output_type": "stream",
     "text": [
      "+-------------+---------+\n",
      "|     Car_Name|Fuel_Type|\n",
      "+-------------+---------+\n",
      "|vitara brezza|   Diesel|\n",
      "|Honda Karizma|   Petrol|\n",
      "|Honda Karizma|   Petrol|\n",
      "+-------------+---------+\n",
      "\n"
     ]
    }
   ],
   "source": [
    "# filtering with name using not-in\n",
    "spark.sql(\"select Car_Name,Fuel_Type from car_dataset where Car_Name like ('%z%' '%a%') \").show(10)\n"
   ]
  },
  {
   "cell_type": "code",
   "execution_count": 62,
   "metadata": {},
   "outputs": [
    {
     "name": "stdout",
     "output_type": "stream",
     "text": [
      "+-------------+---------+\n",
      "|     Car_Name|Fuel_Type|\n",
      "+-------------+---------+\n",
      "|vitara brezza|   Diesel|\n",
      "|Honda Karizma|   Petrol|\n",
      "|Honda Karizma|   Petrol|\n",
      "+-------------+---------+\n",
      "\n"
     ]
    }
   ],
   "source": [
    "# filtering with name using not-in\n",
    "spark.sql(\"select Car_Name,Fuel_Type from car_dataset where Car_Name like ('%z' '%a') \").show(10)\n"
   ]
  },
  {
   "cell_type": "code",
   "execution_count": null,
   "metadata": {},
   "outputs": [],
   "source": []
  },
  {
   "cell_type": "markdown",
   "metadata": {},
   "source": [
    "### Use of Between"
   ]
  },
  {
   "cell_type": "code",
   "execution_count": 68,
   "metadata": {},
   "outputs": [
    {
     "name": "stdout",
     "output_type": "stream",
     "text": [
      "+--------+---------+----+\n",
      "|Car_Name|Fuel_Type|Year|\n",
      "+--------+---------+----+\n",
      "|    ritz|   Petrol|2014|\n",
      "|   swift|   Diesel|2014|\n",
      "|    ciaz|   Petrol|2015|\n",
      "| s cross|   Diesel|2015|\n",
      "|    ciaz|   Diesel|2016|\n",
      "|    ciaz|   Diesel|2015|\n",
      "|    ciaz|   Diesel|2015|\n",
      "|    ciaz|   Petrol|2015|\n",
      "|  ertiga|   Petrol|2015|\n",
      "|  ertiga|   Diesel|2016|\n",
      "+--------+---------+----+\n",
      "only showing top 10 rows\n",
      "\n"
     ]
    }
   ],
   "source": [
    "# filtering with name using not-in\n",
    "spark.sql(\"select Car_Name,Fuel_Type,Year from car_dataset where Year between 2014 and 2016 \").show(10)\n"
   ]
  },
  {
   "cell_type": "code",
   "execution_count": null,
   "metadata": {},
   "outputs": [],
   "source": []
  },
  {
   "cell_type": "markdown",
   "metadata": {},
   "source": [
    "### sorting "
   ]
  },
  {
   "cell_type": "code",
   "execution_count": 69,
   "metadata": {},
   "outputs": [
    {
     "name": "stdout",
     "output_type": "stream",
     "text": [
      "+-------------------+---------+----+\n",
      "|           Car_Name|Fuel_Type|Year|\n",
      "+-------------------+---------+----+\n",
      "|                800|   Petrol|2003|\n",
      "|                sx4|   Petrol|2003|\n",
      "|            corolla|   Petrol|2004|\n",
      "|Hero Super Splendor|   Petrol|2005|\n",
      "|             innova|   Diesel|2005|\n",
      "|             innova|   Petrol|2005|\n",
      "|             innova|   Petrol|2005|\n",
      "|            wagon r|   Petrol|2006|\n",
      "|              camry|   Petrol|2006|\n",
      "|   Bajaj Pulsar 150|   Petrol|2006|\n",
      "+-------------------+---------+----+\n",
      "only showing top 10 rows\n",
      "\n"
     ]
    }
   ],
   "source": [
    "# filtering with name using not-in\n",
    "spark.sql(\"select Car_Name,Fuel_Type,Year from car_dataset order by Year \").show(10)\n"
   ]
  },
  {
   "cell_type": "code",
   "execution_count": 70,
   "metadata": {},
   "outputs": [
    {
     "name": "stdout",
     "output_type": "stream",
     "text": [
      "+--------------------+---------+----+\n",
      "|            Car_Name|Fuel_Type|Year|\n",
      "+--------------------+---------+----+\n",
      "|       vitara brezza|   Diesel|2018|\n",
      "|   Bajaj Avenger 220|   Petrol|2017|\n",
      "|       corolla altis|   Petrol|2017|\n",
      "|  UM Renegade Mojave|   Petrol|2017|\n",
      "|                ciaz|   Petrol|2017|\n",
      "|           KTM RC200|   Petrol|2017|\n",
      "|               ignis|   Petrol|2017|\n",
      "|   Bajaj Dominar 400|   Petrol|2017|\n",
      "|Royal Enfield Cla...|   Petrol|2017|\n",
      "|            fortuner|   Diesel|2017|\n",
      "+--------------------+---------+----+\n",
      "only showing top 10 rows\n",
      "\n"
     ]
    }
   ],
   "source": [
    "# filtering with name using not-in\n",
    "spark.sql(\"select Car_Name,Fuel_Type,Year from car_dataset order by Year desc\").show(10)\n"
   ]
  },
  {
   "cell_type": "code",
   "execution_count": null,
   "metadata": {},
   "outputs": [],
   "source": []
  },
  {
   "cell_type": "markdown",
   "metadata": {},
   "source": [
    "#### use of count"
   ]
  },
  {
   "cell_type": "code",
   "execution_count": 81,
   "metadata": {},
   "outputs": [
    {
     "name": "stdout",
     "output_type": "stream",
     "text": [
      "+----------+\n",
      "|item_count|\n",
      "+----------+\n",
      "|        61|\n",
      "+----------+\n",
      "\n"
     ]
    }
   ],
   "source": [
    "# counting with condition\n",
    "spark.sql(\"select count(*) as item_count from car_dataset where Year==2015 \").show()\n"
   ]
  },
  {
   "cell_type": "code",
   "execution_count": null,
   "metadata": {},
   "outputs": [],
   "source": []
  }
 ],
 "metadata": {
  "kernelspec": {
   "display_name": "Python 3",
   "language": "python",
   "name": "python3"
  },
  "language_info": {
   "codemirror_mode": {
    "name": "ipython",
    "version": 3
   },
   "file_extension": ".py",
   "mimetype": "text/x-python",
   "name": "python",
   "nbconvert_exporter": "python",
   "pygments_lexer": "ipython3",
   "version": "3.7.4"
  }
 },
 "nbformat": 4,
 "nbformat_minor": 2
}
