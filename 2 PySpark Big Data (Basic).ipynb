{
 "cells": [
  {
   "cell_type": "code",
   "execution_count": 11,
   "metadata": {},
   "outputs": [],
   "source": [
    "from pyspark.sql import *"
   ]
  },
  {
   "cell_type": "code",
   "execution_count": 12,
   "metadata": {},
   "outputs": [],
   "source": [
    "from pyspark.sql import SparkSession\n",
    "\n",
    "spark = SparkSession \\\n",
    "    .builder \\\n",
    "    .appName(\"Python Spark SQL basic example2\") \\\n",
    "    .config(\"spark.some.config.option\", \"some-value\") \\\n",
    "    .getOrCreate()"
   ]
  },
  {
   "cell_type": "code",
   "execution_count": 15,
   "metadata": {},
   "outputs": [],
   "source": [
    "hero = spark.read.csv('/home/hasan/DATA SET/superhero-set/heroes_information.csv', header=True)\n"
   ]
  },
  {
   "cell_type": "code",
   "execution_count": 16,
   "metadata": {},
   "outputs": [
    {
     "name": "stdout",
     "output_type": "stream",
     "text": [
      "+---+-----------+------+---------+-----------------+----------+------+-----------------+----------+---------+------+\n",
      "|_c0|       name|Gender|Eye color|             Race|Hair color|Height|        Publisher|Skin color|Alignment|Weight|\n",
      "+---+-----------+------+---------+-----------------+----------+------+-----------------+----------+---------+------+\n",
      "|  0|     A-Bomb|  Male|   yellow|            Human|   No Hair| 203.0|    Marvel Comics|         -|     good| 441.0|\n",
      "|  1| Abe Sapien|  Male|     blue|    Icthyo Sapien|   No Hair| 191.0|Dark Horse Comics|      blue|     good|  65.0|\n",
      "|  2|   Abin Sur|  Male|     blue|          Ungaran|   No Hair| 185.0|        DC Comics|       red|     good|  90.0|\n",
      "|  3|Abomination|  Male|    green|Human / Radiation|   No Hair| 203.0|    Marvel Comics|         -|      bad| 441.0|\n",
      "|  4|    Abraxas|  Male|     blue|    Cosmic Entity|     Black| -99.0|    Marvel Comics|         -|      bad| -99.0|\n",
      "+---+-----------+------+---------+-----------------+----------+------+-----------------+----------+---------+------+\n",
      "only showing top 5 rows\n",
      "\n"
     ]
    }
   ],
   "source": [
    "hero.show(5)"
   ]
  },
  {
   "cell_type": "code",
   "execution_count": 19,
   "metadata": {},
   "outputs": [
    {
     "data": {
      "text/plain": [
       "['_c0',\n",
       " 'name',\n",
       " 'Gender',\n",
       " 'Eye color',\n",
       " 'Race',\n",
       " 'Hair color',\n",
       " 'Height',\n",
       " 'Publisher',\n",
       " 'Skin color',\n",
       " 'Alignment',\n",
       " 'Weight']"
      ]
     },
     "execution_count": 19,
     "metadata": {},
     "output_type": "execute_result"
    }
   ],
   "source": [
    "#column of the dataset\n",
    "hero.columns"
   ]
  },
  {
   "cell_type": "code",
   "execution_count": 20,
   "metadata": {},
   "outputs": [
    {
     "name": "stdout",
     "output_type": "stream",
     "text": [
      "root\n",
      " |-- _c0: string (nullable = true)\n",
      " |-- name: string (nullable = true)\n",
      " |-- Gender: string (nullable = true)\n",
      " |-- Eye color: string (nullable = true)\n",
      " |-- Race: string (nullable = true)\n",
      " |-- Hair color: string (nullable = true)\n",
      " |-- Height: string (nullable = true)\n",
      " |-- Publisher: string (nullable = true)\n",
      " |-- Skin color: string (nullable = true)\n",
      " |-- Alignment: string (nullable = true)\n",
      " |-- Weight: string (nullable = true)\n",
      "\n"
     ]
    }
   ],
   "source": [
    "#summary of the dataset\n",
    "hero.printSchema()"
   ]
  },
  {
   "cell_type": "code",
   "execution_count": 22,
   "metadata": {},
   "outputs": [
    {
     "data": {
      "text/plain": [
       "505"
      ]
     },
     "execution_count": 22,
     "metadata": {},
     "output_type": "execute_result"
    }
   ],
   "source": [
    "#filtering male hero\n",
    "hero.filter(hero.Gender=='Male').count()"
   ]
  },
  {
   "cell_type": "code",
   "execution_count": 23,
   "metadata": {},
   "outputs": [
    {
     "data": {
      "text/plain": [
       "200"
      ]
     },
     "execution_count": 23,
     "metadata": {},
     "output_type": "execute_result"
    }
   ],
   "source": [
    "#filtering female hero\n",
    "hero.filter(hero.Gender=='Female').count()"
   ]
  },
  {
   "cell_type": "markdown",
   "metadata": {},
   "source": [
    "### Grouping"
   ]
  },
  {
   "cell_type": "code",
   "execution_count": 24,
   "metadata": {},
   "outputs": [
    {
     "name": "stdout",
     "output_type": "stream",
     "text": [
      "+------------------+-----+\n",
      "|              Race|count|\n",
      "+------------------+-----+\n",
      "|          Neyaphem|    1|\n",
      "|          Symbiote|    9|\n",
      "|        Kryptonian|    7|\n",
      "|           Ungaran|    1|\n",
      "|           Martian|    1|\n",
      "|         Strontian|    1|\n",
      "| Human / Radiation|   11|\n",
      "|   Kakarantharaian|    1|\n",
      "|         Metahuman|    2|\n",
      "|Dathomirian Zabrak|    1|\n",
      "|    Human / Cosmic|    2|\n",
      "|   Xenomorph XX121|    1|\n",
      "|            Animal|    4|\n",
      "|       Frost Giant|    2|\n",
      "|            Cyborg|   11|\n",
      "|           Inhuman|    4|\n",
      "|     God / Eternal|   14|\n",
      "|    Yoda's species|    1|\n",
      "|     Icthyo Sapien|    1|\n",
      "|            Rodian|    1|\n",
      "+------------------+-----+\n",
      "only showing top 20 rows\n",
      "\n"
     ]
    }
   ],
   "source": [
    "#grouping with Race\n",
    "race_group = hero.groupby('Race')\\\n",
    "            .count()\\\n",
    "            .show()\n"
   ]
  },
  {
   "cell_type": "code",
   "execution_count": 26,
   "metadata": {},
   "outputs": [
    {
     "name": "stdout",
     "output_type": "stream",
     "text": [
      "+--------------+-----+\n",
      "|    Skin color|count|\n",
      "+--------------+-----+\n",
      "|        orange|    1|\n",
      "|    blue-white|    1|\n",
      "|          grey|    5|\n",
      "|         green|   21|\n",
      "|        yellow|    2|\n",
      "|orange / white|    1|\n",
      "|        silver|    5|\n",
      "|        purple|    3|\n",
      "|         white|    7|\n",
      "|          gray|    1|\n",
      "|   red / black|    1|\n",
      "|          pink|    2|\n",
      "|           red|    9|\n",
      "|          gold|    3|\n",
      "|             -|  662|\n",
      "|         black|    1|\n",
      "|          blue|    9|\n",
      "+--------------+-----+\n",
      "\n"
     ]
    }
   ],
   "source": [
    "#grouping with Skin_color\n",
    "race_group = hero.groupby('Skin color')\\\n",
    "            .count()\\\n",
    "            .show()\n"
   ]
  },
  {
   "cell_type": "code",
   "execution_count": null,
   "metadata": {},
   "outputs": [],
   "source": []
  },
  {
   "cell_type": "markdown",
   "metadata": {},
   "source": [
    "### Sorting"
   ]
  },
  {
   "cell_type": "code",
   "execution_count": 42,
   "metadata": {},
   "outputs": [
    {
     "name": "stdout",
     "output_type": "stream",
     "text": [
      "+---+--------------+------+---------+-----+-------------+------+-------------+----------+---------+------+\n",
      "|_c0|          name|Gender|Eye color| Race|   Hair color|Height|    Publisher|Skin color|Alignment|Weight|\n",
      "+---+--------------+------+---------+-----+-------------+------+-------------+----------+---------+------+\n",
      "|137|Brother Voodoo|  Male|    brown|Human|Brown / White| 183.0|Marvel Comics|         -|     good|  99.0|\n",
      "|187|   Cottonmouth|  Male|    brown|Human|        Black| 183.0|Marvel Comics|         -|      bad|  99.0|\n",
      "|257|      Firelord|     -|    white|    -|       Yellow| 193.0|Marvel Comics|         -|     good|  99.0|\n",
      "|279|   Ghost Rider|  Male|      red|Demon|      No Hair| 188.0|Marvel Comics|         -|     good|  99.0|\n",
      "|394|     Kraven II|  Male|    brown|Human|        Black| 191.0|Marvel Comics|         -|      bad|  99.0|\n",
      "+---+--------------+------+---------+-----+-------------+------+-------------+----------+---------+------+\n",
      "only showing top 5 rows\n",
      "\n"
     ]
    }
   ],
   "source": [
    "#sorting with weight column descending order\n",
    "hero_sort = hero.sort((hero.Weight).desc())\\\n",
    "            .show(5)\n"
   ]
  },
  {
   "cell_type": "code",
   "execution_count": 43,
   "metadata": {},
   "outputs": [
    {
     "data": {
      "text/plain": [
       "734"
      ]
     },
     "execution_count": 43,
     "metadata": {},
     "output_type": "execute_result"
    }
   ],
   "source": [
    "# total number of DC Comics\n",
    "hero_sort = hero.sort(hero.Publisher=='DC Comics')\n",
    "hero_sort.count()"
   ]
  },
  {
   "cell_type": "code",
   "execution_count": 44,
   "metadata": {},
   "outputs": [
    {
     "data": {
      "text/plain": [
       "734"
      ]
     },
     "execution_count": 44,
     "metadata": {},
     "output_type": "execute_result"
    }
   ],
   "source": [
    "# total number of Marvel Comics\n",
    "hero_sort = hero.sort(hero.Publisher=='Marvel Comics')\n",
    "hero_sort.count()"
   ]
  },
  {
   "cell_type": "code",
   "execution_count": null,
   "metadata": {},
   "outputs": [],
   "source": []
  },
  {
   "cell_type": "markdown",
   "metadata": {},
   "source": [
    "##### Grouping"
   ]
  },
  {
   "cell_type": "code",
   "execution_count": 46,
   "metadata": {},
   "outputs": [
    {
     "name": "stdout",
     "output_type": "stream",
     "text": [
      "+-----------------+-----+\n",
      "|        Publisher|count|\n",
      "+-----------------+-----+\n",
      "|        Rebellion|    1|\n",
      "|    HarperCollins|    6|\n",
      "| J. R. R. Tolkien|    1|\n",
      "|        Star Trek|    6|\n",
      "|    Marvel Comics|  388|\n",
      "|        Wildstorm|    3|\n",
      "|             null|   15|\n",
      "|       South Park|    1|\n",
      "|    Sony Pictures|    2|\n",
      "|      Titan Books|    1|\n",
      "|      ABC Studios|    4|\n",
      "|             SyFy|    5|\n",
      "|     Image Comics|   14|\n",
      "|Universal Studios|    1|\n",
      "|   IDW Publishing|    4|\n",
      "|     NBC - Heroes|   19|\n",
      "|    Hanna-Barbera|    1|\n",
      "|        DC Comics|  215|\n",
      "|        Microsoft|    1|\n",
      "|    J. K. Rowling|    1|\n",
      "+-----------------+-----+\n",
      "only showing top 20 rows\n",
      "\n"
     ]
    }
   ],
   "source": [
    "# grouping using Publisher\n",
    "hero_groupby = hero.groupby('Publisher')\\\n",
    "                .count()\\\n",
    "                .show()"
   ]
  },
  {
   "cell_type": "code",
   "execution_count": null,
   "metadata": {},
   "outputs": [],
   "source": []
  },
  {
   "cell_type": "markdown",
   "metadata": {},
   "source": [
    "### SQL"
   ]
  },
  {
   "cell_type": "code",
   "execution_count": 60,
   "metadata": {},
   "outputs": [],
   "source": [
    "from pyspark.sql import SQLContext\n",
    "sqlContext = SQLContext(spark)"
   ]
  },
  {
   "cell_type": "code",
   "execution_count": 61,
   "metadata": {},
   "outputs": [],
   "source": [
    "# creating table\n",
    "hero.registerTempTable('superhero_table')\n"
   ]
  },
  {
   "cell_type": "code",
   "execution_count": 62,
   "metadata": {},
   "outputs": [
    {
     "name": "stdout",
     "output_type": "stream",
     "text": [
      "+---+-----------+------+---------+-----------------+----------+------+-----------------+----------+---------+------+\n",
      "|_c0|       name|Gender|Eye color|             Race|Hair color|Height|        Publisher|Skin color|Alignment|Weight|\n",
      "+---+-----------+------+---------+-----------------+----------+------+-----------------+----------+---------+------+\n",
      "|  0|     A-Bomb|  Male|   yellow|            Human|   No Hair| 203.0|    Marvel Comics|         -|     good| 441.0|\n",
      "|  1| Abe Sapien|  Male|     blue|    Icthyo Sapien|   No Hair| 191.0|Dark Horse Comics|      blue|     good|  65.0|\n",
      "|  2|   Abin Sur|  Male|     blue|          Ungaran|   No Hair| 185.0|        DC Comics|       red|     good|  90.0|\n",
      "|  3|Abomination|  Male|    green|Human / Radiation|   No Hair| 203.0|    Marvel Comics|         -|      bad| 441.0|\n",
      "|  4|    Abraxas|  Male|     blue|    Cosmic Entity|     Black| -99.0|    Marvel Comics|         -|      bad| -99.0|\n",
      "+---+-----------+------+---------+-----------------+----------+------+-----------------+----------+---------+------+\n",
      "only showing top 5 rows\n",
      "\n"
     ]
    }
   ],
   "source": [
    "sqlContext.sql('select * from superhero_table').show(5)\n"
   ]
  },
  {
   "cell_type": "code",
   "execution_count": 63,
   "metadata": {},
   "outputs": [
    {
     "name": "stdout",
     "output_type": "stream",
     "text": [
      "+-----------------+\n",
      "|             Race|\n",
      "+-----------------+\n",
      "|            Human|\n",
      "|    Icthyo Sapien|\n",
      "|          Ungaran|\n",
      "|Human / Radiation|\n",
      "|    Cosmic Entity|\n",
      "+-----------------+\n",
      "only showing top 5 rows\n",
      "\n"
     ]
    }
   ],
   "source": [
    "#selecting single column\n",
    "sqlContext.sql('select Race from superhero_table').show(5)"
   ]
  },
  {
   "cell_type": "code",
   "execution_count": 64,
   "metadata": {},
   "outputs": [
    {
     "name": "stdout",
     "output_type": "stream",
     "text": [
      "+-----------------+------+\n",
      "|             Race|Height|\n",
      "+-----------------+------+\n",
      "|            Human| 203.0|\n",
      "|    Icthyo Sapien| 191.0|\n",
      "|          Ungaran| 185.0|\n",
      "|Human / Radiation| 203.0|\n",
      "|    Cosmic Entity| -99.0|\n",
      "+-----------------+------+\n",
      "only showing top 5 rows\n",
      "\n"
     ]
    }
   ],
   "source": [
    "#selecting multiple column\n",
    "sqlContext.sql('select Race, Height from superhero_table').show(5)"
   ]
  },
  {
   "cell_type": "code",
   "execution_count": 83,
   "metadata": {},
   "outputs": [
    {
     "data": {
      "text/plain": [
       "62"
      ]
     },
     "execution_count": 83,
     "metadata": {},
     "output_type": "execute_result"
    }
   ],
   "source": [
    "# total unique in Race column\n",
    "sqlContext.sql(\"select distinct(Race) from superhero_table\").count()\n"
   ]
  },
  {
   "cell_type": "code",
   "execution_count": 84,
   "metadata": {},
   "outputs": [
    {
     "name": "stdout",
     "output_type": "stream",
     "text": [
      "+-----------+\n",
      "|max(weight)|\n",
      "+-----------+\n",
      "|       99.0|\n",
      "+-----------+\n",
      "\n"
     ]
    }
   ],
   "source": [
    "# maximum weight\n",
    "sqlContext.sql(\"select max(weight) from superhero_table\").show()"
   ]
  },
  {
   "cell_type": "code",
   "execution_count": null,
   "metadata": {},
   "outputs": [],
   "source": []
  }
 ],
 "metadata": {
  "kernelspec": {
   "display_name": "Python 3",
   "language": "python",
   "name": "python3"
  },
  "language_info": {
   "codemirror_mode": {
    "name": "ipython",
    "version": 3
   },
   "file_extension": ".py",
   "mimetype": "text/x-python",
   "name": "python",
   "nbconvert_exporter": "python",
   "pygments_lexer": "ipython3",
   "version": "3.7.4"
  }
 },
 "nbformat": 4,
 "nbformat_minor": 2
}
