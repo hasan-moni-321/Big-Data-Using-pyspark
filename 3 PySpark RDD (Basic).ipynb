{
 "cells": [
  {
   "cell_type": "code",
   "execution_count": 1,
   "metadata": {},
   "outputs": [],
   "source": [
    "from pyspark import SparkContext\n",
    "from pyspark import SparkConf\n"
   ]
  },
  {
   "cell_type": "code",
   "execution_count": 3,
   "metadata": {},
   "outputs": [],
   "source": [
    "# create Spark context with Spark configuration\n",
    "conf = SparkConf().setAppName(\"read text file in pysparkf\")\n",
    "sc = SparkContext(conf=conf)\n"
   ]
  },
  {
   "cell_type": "code",
   "execution_count": null,
   "metadata": {},
   "outputs": [],
   "source": []
  },
  {
   "cell_type": "markdown",
   "metadata": {},
   "source": [
    "### Reading text File"
   ]
  },
  {
   "cell_type": "code",
   "execution_count": 5,
   "metadata": {},
   "outputs": [],
   "source": [
    "# Read file into RDD\n",
    "lines = sc.textFile(\"/home/hasan/DATA SET/about bangladesh.txt\")\n"
   ]
  },
  {
   "cell_type": "code",
   "execution_count": 6,
   "metadata": {},
   "outputs": [
    {
     "data": {
      "text/plain": [
       "[\"Bangladesh is a country in South Asia. It is the eighth-most populous country in the world, with a population exceeding 161 million people. In terms of land mass, Bangladesh ranks 92nd, spanning 147,570 square kilometres (56,980 sq mi), making it one of the most densely-populated countries in the world. Bangladesh shares land borders with India to the west, north, and east, Myanmar to the southeast, and the Bay of Bengal to the south. It is narrowly separated from Nepal and Bhutan by India's Siliguri Corridor, and from China by the Indian state of Sikkim, in the north, respectively. Dhaka, the capital and largest city, is the nation's economic, political and cultural hub. Chittagong, the largest sea port, is the second largest city. With numerous criss-crossing rivers and inland waterways, the dominant geographic feature of Bangladesh is the Ganges delta, which empties into the Bay of Bengal with the combined waters of several river systems, including the Brahmaputra river and the Ganges river. Highlands, with evergreen forests, cover the northeastern and southeastern regions, while the country's biodiversity comprises a vast array of plants and wildlife, including the endangered Royal Bengal tiger, which is the national animal.The seacoast features the world's longest natural sandy beach in Cox's Bazar as well as the Sundarbans, which is the world's largest mangrove forest.\",\n",
       " '']"
      ]
     },
     "execution_count": 6,
     "metadata": {},
     "output_type": "execute_result"
    }
   ],
   "source": [
    "lines.take(2)"
   ]
  },
  {
   "cell_type": "code",
   "execution_count": 7,
   "metadata": {},
   "outputs": [
    {
     "data": {
      "text/plain": [
       "[\"Bangladesh is a country in South Asia. It is the eighth-most populous country in the world, with a population exceeding 161 million people. In terms of land mass, Bangladesh ranks 92nd, spanning 147,570 square kilometres (56,980 sq mi), making it one of the most densely-populated countries in the world. Bangladesh shares land borders with India to the west, north, and east, Myanmar to the southeast, and the Bay of Bengal to the south. It is narrowly separated from Nepal and Bhutan by India's Siliguri Corridor, and from China by the Indian state of Sikkim, in the north, respectively. Dhaka, the capital and largest city, is the nation's economic, political and cultural hub. Chittagong, the largest sea port, is the second largest city. With numerous criss-crossing rivers and inland waterways, the dominant geographic feature of Bangladesh is the Ganges delta, which empties into the Bay of Bengal with the combined waters of several river systems, including the Brahmaputra river and the Ganges river. Highlands, with evergreen forests, cover the northeastern and southeastern regions, while the country's biodiversity comprises a vast array of plants and wildlife, including the endangered Royal Bengal tiger, which is the national animal.The seacoast features the world's longest natural sandy beach in Cox's Bazar as well as the Sundarbans, which is the world's largest mangrove forest.\",\n",
       " '',\n",
       " 'Bangladesh forms the larger and eastern part of the Bengal region.According to the ancient sacred Indian texts, Ramayana and Mahabharata, the Vanga Kingdom, one of the namesakes of the Bengal region, was a strong naval ally of the legendary Ayodhya. In the ancient and classical period of the Indian subcontinent, the territory was home to many principalities, including the Pundra, Gangaridai, Gauda, Samatata and Harikela. It was also a Mauryan province under the reign of Ashoka. The principalities were notable for their overseas trade, contacts with the Roman world, export of fine muslin and silk to the Middle East, and spreading of philosophy and art to Southeast Asia. The Pala Empire, the Chandra dynasty, and the Sena dynasty were the last pre-Islamic Bengali middle kingdoms. Islam was introduced during the Pala Empire, through trade with the Abbasid Caliphate,but following the early conquest of Bakhtiyar Khalji and the subsequent establishment of the Delhi Sultanate and preaching of Shah Jalal in East Bengal, the faith fully spread across the region. In 1576, the wealthy Bengal Sultanate was absorbed into the Mughal Empire, but its rule was briefly interrupted by the Suri Empire. Following the death of Emperor Aurangzeb in the early 1700s, the proto-industrialised Mughal Bengal became a semi-independent state under the Nawabs of Bengal. The region was later conquered by the British East India Company at the Battle of Plassey in 1757.The borders of modern Bangladesh were established with the separation of Bengal and India in August 1947, when the region became East Pakistan as a part of the newly formed State of Pakistan, demarcated by the Boundary of the Partition of India. Later the rise of the Bengali nationalist and self-determination movement led to the Liberation War and eventually resulted in the emergence of Bangladesh as a sovereign and independent nation in 1971. ']"
      ]
     },
     "execution_count": 7,
     "metadata": {},
     "output_type": "execute_result"
    }
   ],
   "source": [
    "lines.take(4)"
   ]
  },
  {
   "cell_type": "code",
   "execution_count": null,
   "metadata": {},
   "outputs": [],
   "source": []
  },
  {
   "cell_type": "markdown",
   "metadata": {},
   "source": [
    "### tokenizing to word"
   ]
  },
  {
   "cell_type": "code",
   "execution_count": 8,
   "metadata": {},
   "outputs": [],
   "source": [
    "def lowe_and_word(text):\n",
    "    lines = text.lower()\n",
    "    lines = lines.split()\n",
    "    return lines\n",
    "\n"
   ]
  },
  {
   "cell_type": "code",
   "execution_count": 9,
   "metadata": {},
   "outputs": [
    {
     "data": {
      "text/plain": [
       "[['bangladesh',\n",
       "  'is',\n",
       "  'a',\n",
       "  'country',\n",
       "  'in',\n",
       "  'south',\n",
       "  'asia.',\n",
       "  'it',\n",
       "  'is',\n",
       "  'the',\n",
       "  'eighth-most',\n",
       "  'populous',\n",
       "  'country',\n",
       "  'in',\n",
       "  'the',\n",
       "  'world,',\n",
       "  'with',\n",
       "  'a',\n",
       "  'population',\n",
       "  'exceeding',\n",
       "  '161',\n",
       "  'million',\n",
       "  'people.',\n",
       "  'in',\n",
       "  'terms',\n",
       "  'of',\n",
       "  'land',\n",
       "  'mass,',\n",
       "  'bangladesh',\n",
       "  'ranks',\n",
       "  '92nd,',\n",
       "  'spanning',\n",
       "  '147,570',\n",
       "  'square',\n",
       "  'kilometres',\n",
       "  '(56,980',\n",
       "  'sq',\n",
       "  'mi),',\n",
       "  'making',\n",
       "  'it',\n",
       "  'one',\n",
       "  'of',\n",
       "  'the',\n",
       "  'most',\n",
       "  'densely-populated',\n",
       "  'countries',\n",
       "  'in',\n",
       "  'the',\n",
       "  'world.',\n",
       "  'bangladesh',\n",
       "  'shares',\n",
       "  'land',\n",
       "  'borders',\n",
       "  'with',\n",
       "  'india',\n",
       "  'to',\n",
       "  'the',\n",
       "  'west,',\n",
       "  'north,',\n",
       "  'and',\n",
       "  'east,',\n",
       "  'myanmar',\n",
       "  'to',\n",
       "  'the',\n",
       "  'southeast,',\n",
       "  'and',\n",
       "  'the',\n",
       "  'bay',\n",
       "  'of',\n",
       "  'bengal',\n",
       "  'to',\n",
       "  'the',\n",
       "  'south.',\n",
       "  'it',\n",
       "  'is',\n",
       "  'narrowly',\n",
       "  'separated',\n",
       "  'from',\n",
       "  'nepal',\n",
       "  'and',\n",
       "  'bhutan',\n",
       "  'by',\n",
       "  \"india's\",\n",
       "  'siliguri',\n",
       "  'corridor,',\n",
       "  'and',\n",
       "  'from',\n",
       "  'china',\n",
       "  'by',\n",
       "  'the',\n",
       "  'indian',\n",
       "  'state',\n",
       "  'of',\n",
       "  'sikkim,',\n",
       "  'in',\n",
       "  'the',\n",
       "  'north,',\n",
       "  'respectively.',\n",
       "  'dhaka,',\n",
       "  'the',\n",
       "  'capital',\n",
       "  'and',\n",
       "  'largest',\n",
       "  'city,',\n",
       "  'is',\n",
       "  'the',\n",
       "  \"nation's\",\n",
       "  'economic,',\n",
       "  'political',\n",
       "  'and',\n",
       "  'cultural',\n",
       "  'hub.',\n",
       "  'chittagong,',\n",
       "  'the',\n",
       "  'largest',\n",
       "  'sea',\n",
       "  'port,',\n",
       "  'is',\n",
       "  'the',\n",
       "  'second',\n",
       "  'largest',\n",
       "  'city.',\n",
       "  'with',\n",
       "  'numerous',\n",
       "  'criss-crossing',\n",
       "  'rivers',\n",
       "  'and',\n",
       "  'inland',\n",
       "  'waterways,',\n",
       "  'the',\n",
       "  'dominant',\n",
       "  'geographic',\n",
       "  'feature',\n",
       "  'of',\n",
       "  'bangladesh',\n",
       "  'is',\n",
       "  'the',\n",
       "  'ganges',\n",
       "  'delta,',\n",
       "  'which',\n",
       "  'empties',\n",
       "  'into',\n",
       "  'the',\n",
       "  'bay',\n",
       "  'of',\n",
       "  'bengal',\n",
       "  'with',\n",
       "  'the',\n",
       "  'combined',\n",
       "  'waters',\n",
       "  'of',\n",
       "  'several',\n",
       "  'river',\n",
       "  'systems,',\n",
       "  'including',\n",
       "  'the',\n",
       "  'brahmaputra',\n",
       "  'river',\n",
       "  'and',\n",
       "  'the',\n",
       "  'ganges',\n",
       "  'river.',\n",
       "  'highlands,',\n",
       "  'with',\n",
       "  'evergreen',\n",
       "  'forests,',\n",
       "  'cover',\n",
       "  'the',\n",
       "  'northeastern',\n",
       "  'and',\n",
       "  'southeastern',\n",
       "  'regions,',\n",
       "  'while',\n",
       "  'the',\n",
       "  \"country's\",\n",
       "  'biodiversity',\n",
       "  'comprises',\n",
       "  'a',\n",
       "  'vast',\n",
       "  'array',\n",
       "  'of',\n",
       "  'plants',\n",
       "  'and',\n",
       "  'wildlife,',\n",
       "  'including',\n",
       "  'the',\n",
       "  'endangered',\n",
       "  'royal',\n",
       "  'bengal',\n",
       "  'tiger,',\n",
       "  'which',\n",
       "  'is',\n",
       "  'the',\n",
       "  'national',\n",
       "  'animal.the',\n",
       "  'seacoast',\n",
       "  'features',\n",
       "  'the',\n",
       "  \"world's\",\n",
       "  'longest',\n",
       "  'natural',\n",
       "  'sandy',\n",
       "  'beach',\n",
       "  'in',\n",
       "  \"cox's\",\n",
       "  'bazar',\n",
       "  'as',\n",
       "  'well',\n",
       "  'as',\n",
       "  'the',\n",
       "  'sundarbans,',\n",
       "  'which',\n",
       "  'is',\n",
       "  'the',\n",
       "  \"world's\",\n",
       "  'largest',\n",
       "  'mangrove',\n",
       "  'forest.'],\n",
       " [],\n",
       " ['bangladesh',\n",
       "  'forms',\n",
       "  'the',\n",
       "  'larger',\n",
       "  'and',\n",
       "  'eastern',\n",
       "  'part',\n",
       "  'of',\n",
       "  'the',\n",
       "  'bengal',\n",
       "  'region.according',\n",
       "  'to',\n",
       "  'the',\n",
       "  'ancient',\n",
       "  'sacred',\n",
       "  'indian',\n",
       "  'texts,',\n",
       "  'ramayana',\n",
       "  'and',\n",
       "  'mahabharata,',\n",
       "  'the',\n",
       "  'vanga',\n",
       "  'kingdom,',\n",
       "  'one',\n",
       "  'of',\n",
       "  'the',\n",
       "  'namesakes',\n",
       "  'of',\n",
       "  'the',\n",
       "  'bengal',\n",
       "  'region,',\n",
       "  'was',\n",
       "  'a',\n",
       "  'strong',\n",
       "  'naval',\n",
       "  'ally',\n",
       "  'of',\n",
       "  'the',\n",
       "  'legendary',\n",
       "  'ayodhya.',\n",
       "  'in',\n",
       "  'the',\n",
       "  'ancient',\n",
       "  'and',\n",
       "  'classical',\n",
       "  'period',\n",
       "  'of',\n",
       "  'the',\n",
       "  'indian',\n",
       "  'subcontinent,',\n",
       "  'the',\n",
       "  'territory',\n",
       "  'was',\n",
       "  'home',\n",
       "  'to',\n",
       "  'many',\n",
       "  'principalities,',\n",
       "  'including',\n",
       "  'the',\n",
       "  'pundra,',\n",
       "  'gangaridai,',\n",
       "  'gauda,',\n",
       "  'samatata',\n",
       "  'and',\n",
       "  'harikela.',\n",
       "  'it',\n",
       "  'was',\n",
       "  'also',\n",
       "  'a',\n",
       "  'mauryan',\n",
       "  'province',\n",
       "  'under',\n",
       "  'the',\n",
       "  'reign',\n",
       "  'of',\n",
       "  'ashoka.',\n",
       "  'the',\n",
       "  'principalities',\n",
       "  'were',\n",
       "  'notable',\n",
       "  'for',\n",
       "  'their',\n",
       "  'overseas',\n",
       "  'trade,',\n",
       "  'contacts',\n",
       "  'with',\n",
       "  'the',\n",
       "  'roman',\n",
       "  'world,',\n",
       "  'export',\n",
       "  'of',\n",
       "  'fine',\n",
       "  'muslin',\n",
       "  'and',\n",
       "  'silk',\n",
       "  'to',\n",
       "  'the',\n",
       "  'middle',\n",
       "  'east,',\n",
       "  'and',\n",
       "  'spreading',\n",
       "  'of',\n",
       "  'philosophy',\n",
       "  'and',\n",
       "  'art',\n",
       "  'to',\n",
       "  'southeast',\n",
       "  'asia.',\n",
       "  'the',\n",
       "  'pala',\n",
       "  'empire,',\n",
       "  'the',\n",
       "  'chandra',\n",
       "  'dynasty,',\n",
       "  'and',\n",
       "  'the',\n",
       "  'sena',\n",
       "  'dynasty',\n",
       "  'were',\n",
       "  'the',\n",
       "  'last',\n",
       "  'pre-islamic',\n",
       "  'bengali',\n",
       "  'middle',\n",
       "  'kingdoms.',\n",
       "  'islam',\n",
       "  'was',\n",
       "  'introduced',\n",
       "  'during',\n",
       "  'the',\n",
       "  'pala',\n",
       "  'empire,',\n",
       "  'through',\n",
       "  'trade',\n",
       "  'with',\n",
       "  'the',\n",
       "  'abbasid',\n",
       "  'caliphate,but',\n",
       "  'following',\n",
       "  'the',\n",
       "  'early',\n",
       "  'conquest',\n",
       "  'of',\n",
       "  'bakhtiyar',\n",
       "  'khalji',\n",
       "  'and',\n",
       "  'the',\n",
       "  'subsequent',\n",
       "  'establishment',\n",
       "  'of',\n",
       "  'the',\n",
       "  'delhi',\n",
       "  'sultanate',\n",
       "  'and',\n",
       "  'preaching',\n",
       "  'of',\n",
       "  'shah',\n",
       "  'jalal',\n",
       "  'in',\n",
       "  'east',\n",
       "  'bengal,',\n",
       "  'the',\n",
       "  'faith',\n",
       "  'fully',\n",
       "  'spread',\n",
       "  'across',\n",
       "  'the',\n",
       "  'region.',\n",
       "  'in',\n",
       "  '1576,',\n",
       "  'the',\n",
       "  'wealthy',\n",
       "  'bengal',\n",
       "  'sultanate',\n",
       "  'was',\n",
       "  'absorbed',\n",
       "  'into',\n",
       "  'the',\n",
       "  'mughal',\n",
       "  'empire,',\n",
       "  'but',\n",
       "  'its',\n",
       "  'rule',\n",
       "  'was',\n",
       "  'briefly',\n",
       "  'interrupted',\n",
       "  'by',\n",
       "  'the',\n",
       "  'suri',\n",
       "  'empire.',\n",
       "  'following',\n",
       "  'the',\n",
       "  'death',\n",
       "  'of',\n",
       "  'emperor',\n",
       "  'aurangzeb',\n",
       "  'in',\n",
       "  'the',\n",
       "  'early',\n",
       "  '1700s,',\n",
       "  'the',\n",
       "  'proto-industrialised',\n",
       "  'mughal',\n",
       "  'bengal',\n",
       "  'became',\n",
       "  'a',\n",
       "  'semi-independent',\n",
       "  'state',\n",
       "  'under',\n",
       "  'the',\n",
       "  'nawabs',\n",
       "  'of',\n",
       "  'bengal.',\n",
       "  'the',\n",
       "  'region',\n",
       "  'was',\n",
       "  'later',\n",
       "  'conquered',\n",
       "  'by',\n",
       "  'the',\n",
       "  'british',\n",
       "  'east',\n",
       "  'india',\n",
       "  'company',\n",
       "  'at',\n",
       "  'the',\n",
       "  'battle',\n",
       "  'of',\n",
       "  'plassey',\n",
       "  'in',\n",
       "  '1757.the',\n",
       "  'borders',\n",
       "  'of',\n",
       "  'modern',\n",
       "  'bangladesh',\n",
       "  'were',\n",
       "  'established',\n",
       "  'with',\n",
       "  'the',\n",
       "  'separation',\n",
       "  'of',\n",
       "  'bengal',\n",
       "  'and',\n",
       "  'india',\n",
       "  'in',\n",
       "  'august',\n",
       "  '1947,',\n",
       "  'when',\n",
       "  'the',\n",
       "  'region',\n",
       "  'became',\n",
       "  'east',\n",
       "  'pakistan',\n",
       "  'as',\n",
       "  'a',\n",
       "  'part',\n",
       "  'of',\n",
       "  'the',\n",
       "  'newly',\n",
       "  'formed',\n",
       "  'state',\n",
       "  'of',\n",
       "  'pakistan,',\n",
       "  'demarcated',\n",
       "  'by',\n",
       "  'the',\n",
       "  'boundary',\n",
       "  'of',\n",
       "  'the',\n",
       "  'partition',\n",
       "  'of',\n",
       "  'india.',\n",
       "  'later',\n",
       "  'the',\n",
       "  'rise',\n",
       "  'of',\n",
       "  'the',\n",
       "  'bengali',\n",
       "  'nationalist',\n",
       "  'and',\n",
       "  'self-determination',\n",
       "  'movement',\n",
       "  'led',\n",
       "  'to',\n",
       "  'the',\n",
       "  'liberation',\n",
       "  'war',\n",
       "  'and',\n",
       "  'eventually',\n",
       "  'resulted',\n",
       "  'in',\n",
       "  'the',\n",
       "  'emergence',\n",
       "  'of',\n",
       "  'bangladesh',\n",
       "  'as',\n",
       "  'a',\n",
       "  'sovereign',\n",
       "  'and',\n",
       "  'independent',\n",
       "  'nation',\n",
       "  'in',\n",
       "  '1971.']]"
      ]
     },
     "execution_count": 9,
     "metadata": {},
     "output_type": "execute_result"
    }
   ],
   "source": [
    "#use of map\n",
    "word_text = lines.map(lowe_and_word)\n",
    "word_text.take(3)"
   ]
  },
  {
   "cell_type": "code",
   "execution_count": null,
   "metadata": {},
   "outputs": [],
   "source": []
  },
  {
   "cell_type": "code",
   "execution_count": 10,
   "metadata": {},
   "outputs": [
    {
     "data": {
      "text/plain": [
       "['bangladesh', 'is', 'a', 'country', 'in', 'south', 'asia.', 'it', 'is', 'the']"
      ]
     },
     "execution_count": 10,
     "metadata": {},
     "output_type": "execute_result"
    }
   ],
   "source": [
    "# flatting every word\n",
    "word_text = lines.flatMap(lowe_and_word)\n",
    "word_text.take(10)"
   ]
  },
  {
   "cell_type": "code",
   "execution_count": null,
   "metadata": {},
   "outputs": [],
   "source": []
  },
  {
   "cell_type": "markdown",
   "metadata": {},
   "source": [
    "### Removing stopword"
   ]
  },
  {
   "cell_type": "code",
   "execution_count": 11,
   "metadata": {},
   "outputs": [],
   "source": [
    "#stopwords\n",
    "stopwords = ['how', 'a', 'in', 'is', 'he', 'who', 'I', 'there', 'where', 'with', 'the', 'of', 'whos']"
   ]
  },
  {
   "cell_type": "code",
   "execution_count": 12,
   "metadata": {},
   "outputs": [
    {
     "data": {
      "text/plain": [
       "['bangladesh',\n",
       " 'country',\n",
       " 'south',\n",
       " 'asia.',\n",
       " 'it',\n",
       " 'eighth-most',\n",
       " 'populous',\n",
       " 'country',\n",
       " 'world,',\n",
       " 'population']"
      ]
     },
     "execution_count": 12,
     "metadata": {},
     "output_type": "execute_result"
    }
   ],
   "source": [
    "without_stopwords = word_text.filter(lambda x: x not in stopwords)\n",
    "without_stopwords.take(10)\n"
   ]
  },
  {
   "cell_type": "code",
   "execution_count": null,
   "metadata": {},
   "outputs": [],
   "source": []
  },
  {
   "cell_type": "markdown",
   "metadata": {},
   "source": [
    "### Those words starts with b character"
   ]
  },
  {
   "cell_type": "code",
   "execution_count": 13,
   "metadata": {},
   "outputs": [
    {
     "data": {
      "text/plain": [
       "['bangladesh',\n",
       " 'bangladesh',\n",
       " 'bangladesh',\n",
       " 'borders',\n",
       " 'bay',\n",
       " 'bengal',\n",
       " 'bhutan',\n",
       " 'by',\n",
       " 'by',\n",
       " 'bangladesh']"
      ]
     },
     "execution_count": 13,
     "metadata": {},
     "output_type": "execute_result"
    }
   ],
   "source": [
    "# starts with b character\n",
    "starts_with_b = word_text.filter(lambda x: x.startswith('b'))\n",
    "starts_with_b.take(10)"
   ]
  },
  {
   "cell_type": "code",
   "execution_count": 14,
   "metadata": {},
   "outputs": [
    {
     "data": {
      "text/plain": [
       "['bangladesh',\n",
       " 'bhutan',\n",
       " 'brahmaputra',\n",
       " 'biodiversity',\n",
       " 'beach',\n",
       " 'bazar',\n",
       " 'bengal,',\n",
       " 'but',\n",
       " 'briefly',\n",
       " 'boundary']"
      ]
     },
     "execution_count": 14,
     "metadata": {},
     "output_type": "execute_result"
    }
   ],
   "source": [
    "# unique words\n",
    "starts_with_b.distinct().take(10)"
   ]
  },
  {
   "cell_type": "code",
   "execution_count": null,
   "metadata": {},
   "outputs": [],
   "source": []
  },
  {
   "cell_type": "markdown",
   "metadata": {},
   "source": [
    "### Counting every word how many times appear"
   ]
  },
  {
   "cell_type": "code",
   "execution_count": 26,
   "metadata": {},
   "outputs": [
    {
     "data": {
      "text/plain": [
       "[(24, 'and'),\n",
       " (8, 'to'),\n",
       " (8, 'bengal'),\n",
       " (7, 'bangladesh'),\n",
       " (7, 'was'),\n",
       " (5, 'by'),\n",
       " (4, 'as'),\n",
       " (4, 'it'),\n",
       " (4, 'largest'),\n",
       " (3, 'state')]"
      ]
     },
     "execution_count": 26,
     "metadata": {},
     "output_type": "execute_result"
    }
   ],
   "source": [
    "word_mapp = without_stopwords.map(lambda x: (x,1))\n",
    "word_grouped = word_mapp.groupByKey()\n",
    "word_frequency = word_grouped.mapValues(sum).map(lambda x: (x[1], x[0])).sortByKey(False)\n",
    "word_frequency.take(10)\n"
   ]
  },
  {
   "cell_type": "code",
   "execution_count": 30,
   "metadata": {},
   "outputs": [
    {
     "data": {
      "text/plain": [
       "521"
      ]
     },
     "execution_count": 30,
     "metadata": {},
     "output_type": "execute_result"
    }
   ],
   "source": [
    "# total number of words, before removing stopwords\n",
    "word_text.count()\n"
   ]
  },
  {
   "cell_type": "code",
   "execution_count": 31,
   "metadata": {},
   "outputs": [
    {
     "data": {
      "text/plain": [
       "276"
      ]
     },
     "execution_count": 31,
     "metadata": {},
     "output_type": "execute_result"
    }
   ],
   "source": [
    "# after removing stopwords, total number of unique word\n",
    "word_frequency.count()\n"
   ]
  },
  {
   "cell_type": "code",
   "execution_count": 34,
   "metadata": {},
   "outputs": [
    {
     "data": {
      "text/plain": [
       "282"
      ]
     },
     "execution_count": 34,
     "metadata": {},
     "output_type": "execute_result"
    }
   ],
   "source": [
    "#toal unique word, with stopwords\n",
    "rdd2 = word_text.distinct()\n",
    "rdd2.count()\n"
   ]
  },
  {
   "cell_type": "code",
   "execution_count": null,
   "metadata": {},
   "outputs": [],
   "source": []
  },
  {
   "cell_type": "markdown",
   "metadata": {},
   "source": [
    "### Those words have same first two character"
   ]
  },
  {
   "cell_type": "code",
   "execution_count": 39,
   "metadata": {},
   "outputs": [
    {
     "name": "stdout",
     "output_type": "stream",
     "text": [
      "[('ba', ['bangladesh', 'bazar', 'bay', 'bakhtiyar', 'battle']), ('is', ['is', 'islam']), ('co', ['country', 'countries', \"country's\", \"cox's\", 'contacts', 'conquered', 'corridor,', 'combined', 'cover', 'comprises', 'conquest', 'company']), ('in', ['in', \"india's\", 'inland', 'into', 'introduced', 'india', 'indian', 'including', 'interrupted', 'india.', 'independent']), ('as', ['asia.', 'as', 'ashoka.'])]\n"
     ]
    }
   ],
   "source": [
    "rdd3 = rdd2.groupBy(lambda w: w[0:2])\n",
    "print([(k, list(v)) for (k,v) in rdd3.take(5)])"
   ]
  },
  {
   "cell_type": "code",
   "execution_count": null,
   "metadata": {},
   "outputs": [],
   "source": []
  },
  {
   "cell_type": "markdown",
   "metadata": {},
   "source": [
    "### Taking 10% data"
   ]
  },
  {
   "cell_type": "code",
   "execution_count": 47,
   "metadata": {},
   "outputs": [
    {
     "data": {
      "text/plain": [
       "381"
      ]
     },
     "execution_count": 47,
     "metadata": {},
     "output_type": "execute_result"
    }
   ],
   "source": [
    "#not stopwords\n",
    "without_stopwords.count()"
   ]
  },
  {
   "cell_type": "code",
   "execution_count": 48,
   "metadata": {},
   "outputs": [
    {
     "data": {
      "text/plain": [
       "43"
      ]
     },
     "execution_count": 48,
     "metadata": {},
     "output_type": "execute_result"
    }
   ],
   "source": [
    "ample_rdd = without_stopwords.sample(False, 0.1)\n",
    "ample_rdd.count()"
   ]
  },
  {
   "cell_type": "code",
   "execution_count": 50,
   "metadata": {},
   "outputs": [
    {
     "data": {
      "text/plain": [
       "['terms', '92nd,', '147,570', 'kilometres', '(56,980']"
      ]
     },
     "execution_count": 50,
     "metadata": {},
     "output_type": "execute_result"
    }
   ],
   "source": [
    "ample_rdd.take(5)"
   ]
  },
  {
   "cell_type": "code",
   "execution_count": null,
   "metadata": {},
   "outputs": [],
   "source": []
  },
  {
   "cell_type": "code",
   "execution_count": null,
   "metadata": {},
   "outputs": [],
   "source": []
  },
  {
   "cell_type": "markdown",
   "metadata": {},
   "source": [
    "### Create RDD"
   ]
  },
  {
   "cell_type": "code",
   "execution_count": 51,
   "metadata": {},
   "outputs": [],
   "source": [
    "#create RDD\n",
    "a = sc.parallelize([('a', 2), ('b', 3)])\n",
    "b = sc.parallelize([('a', 8), ('b', 6), ('x', 4)])"
   ]
  },
  {
   "cell_type": "code",
   "execution_count": 58,
   "metadata": {},
   "outputs": [
    {
     "data": {
      "text/plain": [
       "[('a', (2, 8)), ('b', (3, 6))]"
      ]
     },
     "execution_count": 58,
     "metadata": {},
     "output_type": "execute_result"
    }
   ],
   "source": [
    "# joining RDD\n",
    "c = a.join(b)\n",
    "c.collect()"
   ]
  },
  {
   "cell_type": "code",
   "execution_count": null,
   "metadata": {},
   "outputs": [],
   "source": []
  },
  {
   "cell_type": "markdown",
   "metadata": {},
   "source": [
    "### another RDD"
   ]
  },
  {
   "cell_type": "code",
   "execution_count": 59,
   "metadata": {},
   "outputs": [
    {
     "data": {
      "text/plain": [
       "[1, 2, 3, 4, 5, 6, 7, 8, 9, 10, 11, 12, 13, 14, 15, 16, 17, 18, 19, 20]"
      ]
     },
     "execution_count": 59,
     "metadata": {},
     "output_type": "execute_result"
    }
   ],
   "source": [
    "num_rdd = sc.parallelize(range(1, 50000))\n",
    "num_rdd.take(20)\n"
   ]
  },
  {
   "cell_type": "code",
   "execution_count": 61,
   "metadata": {},
   "outputs": [
    {
     "data": {
      "text/plain": [
       "1249975000"
      ]
     },
     "execution_count": 61,
     "metadata": {},
     "output_type": "execute_result"
    }
   ],
   "source": [
    "#adding every number\n",
    "add_rdd = num_rdd.reduce(lambda x,y: x+y)\n",
    "add_rdd\n"
   ]
  },
  {
   "cell_type": "code",
   "execution_count": null,
   "metadata": {},
   "outputs": [],
   "source": []
  },
  {
   "cell_type": "markdown",
   "metadata": {},
   "source": [
    "### creating RDD"
   ]
  },
  {
   "cell_type": "code",
   "execution_count": 67,
   "metadata": {},
   "outputs": [
    {
     "data": {
      "text/plain": [
       "[('b', 7), ('a', 7), ('e', 16)]"
      ]
     },
     "execution_count": 67,
     "metadata": {},
     "output_type": "execute_result"
    }
   ],
   "source": [
    "data_keydata = sc.parallelize([('a', 3), ('b', 7), ('a', 4), ('e', 9), ('e', 7)])\n",
    "data_keydata.reduceByKey(lambda x, y: x+y).collect()\n"
   ]
  },
  {
   "cell_type": "code",
   "execution_count": null,
   "metadata": {},
   "outputs": [],
   "source": []
  },
  {
   "cell_type": "markdown",
   "metadata": {},
   "source": [
    "### Saving text file in RDD"
   ]
  },
  {
   "cell_type": "code",
   "execution_count": null,
   "metadata": {},
   "outputs": [],
   "source": []
  },
  {
   "cell_type": "code",
   "execution_count": null,
   "metadata": {},
   "outputs": [],
   "source": []
  },
  {
   "cell_type": "markdown",
   "metadata": {},
   "source": [
    "### creating new RDD"
   ]
  },
  {
   "cell_type": "code",
   "execution_count": 79,
   "metadata": {},
   "outputs": [],
   "source": [
    "test = [('a', 1), ('b', 2), ('1', 3), ('d', 4), ('2', 5)]"
   ]
  },
  {
   "cell_type": "code",
   "execution_count": 83,
   "metadata": {},
   "outputs": [
    {
     "data": {
      "text/plain": [
       "[('1', 3), ('2', 5), ('a', 1), ('b', 2), ('d', 4)]"
      ]
     },
     "execution_count": 83,
     "metadata": {},
     "output_type": "execute_result"
    }
   ],
   "source": [
    "# sorting \n",
    "sc.parallelize(test).sortByKey(True, 1).collect()"
   ]
  },
  {
   "cell_type": "code",
   "execution_count": null,
   "metadata": {},
   "outputs": [],
   "source": []
  },
  {
   "cell_type": "markdown",
   "metadata": {},
   "source": [
    "##### union operation"
   ]
  },
  {
   "cell_type": "code",
   "execution_count": 84,
   "metadata": {},
   "outputs": [
    {
     "data": {
      "text/plain": [
       "[1, 2, 3, 4, 5, 2, 4, 6, 8]"
      ]
     },
     "execution_count": 84,
     "metadata": {},
     "output_type": "execute_result"
    }
   ],
   "source": [
    "a = sc.parallelize([1,2,3,4,5])\n",
    "b = sc.parallelize([2,4,6,8])\n",
    "\n",
    "c = a.union(b)\n",
    "c.collect()"
   ]
  },
  {
   "cell_type": "code",
   "execution_count": null,
   "metadata": {},
   "outputs": [],
   "source": []
  },
  {
   "cell_type": "markdown",
   "metadata": {},
   "source": [
    "##### use of mapPartitionsWithIndex"
   ]
  },
  {
   "cell_type": "code",
   "execution_count": 93,
   "metadata": {},
   "outputs": [
    {
     "data": {
      "text/plain": [
       "15"
      ]
     },
     "execution_count": 93,
     "metadata": {},
     "output_type": "execute_result"
    }
   ],
   "source": [
    "#map partition with index\n",
    "mpwi = sc.parallelize([1,2,3,4],6)\n",
    "def function_name(split_index, iterator): yield split_index\n",
    "\n",
    "mpwi.mapPartitionsWithIndex(function_name).sum()"
   ]
  },
  {
   "cell_type": "code",
   "execution_count": null,
   "metadata": {},
   "outputs": [],
   "source": []
  },
  {
   "cell_type": "markdown",
   "metadata": {},
   "source": [
    "##### use of intersection"
   ]
  },
  {
   "cell_type": "code",
   "execution_count": 95,
   "metadata": {},
   "outputs": [
    {
     "data": {
      "text/plain": [
       "[1, 2, 3, 4, 5, 6]"
      ]
     },
     "execution_count": 95,
     "metadata": {},
     "output_type": "execute_result"
    }
   ],
   "source": [
    "rdd_a = sc.parallelize([2,4,6,1,3,5])\n",
    "rdd_b = sc.parallelize([1,3,5,2,4,6])\n",
    "rdd_a.intersection(rdd_b).collect()\n"
   ]
  },
  {
   "cell_type": "code",
   "execution_count": null,
   "metadata": {},
   "outputs": [],
   "source": []
  },
  {
   "cell_type": "markdown",
   "metadata": {},
   "source": [
    "##### use of subtract"
   ]
  },
  {
   "cell_type": "code",
   "execution_count": 101,
   "metadata": {},
   "outputs": [
    {
     "data": {
      "text/plain": [
       "[1, 2]"
      ]
     },
     "execution_count": 101,
     "metadata": {},
     "output_type": "execute_result"
    }
   ],
   "source": [
    "rdd_a = sc.parallelize([1,2,3,4])\n",
    "rdd_b = sc.parallelize([3,4,5,6])\n",
    "rdd_a.subtract(rdd_b).collect()\n"
   ]
  },
  {
   "cell_type": "code",
   "execution_count": null,
   "metadata": {},
   "outputs": [],
   "source": []
  },
  {
   "cell_type": "markdown",
   "metadata": {},
   "source": [
    "##### use of cartesian"
   ]
  },
  {
   "cell_type": "code",
   "execution_count": 102,
   "metadata": {},
   "outputs": [
    {
     "data": {
      "text/plain": [
       "[(1, 3),\n",
       " (1, 4),\n",
       " (1, 5),\n",
       " (1, 6),\n",
       " (2, 3),\n",
       " (2, 4),\n",
       " (2, 5),\n",
       " (2, 6),\n",
       " (3, 3),\n",
       " (3, 4),\n",
       " (3, 5),\n",
       " (3, 6),\n",
       " (4, 3),\n",
       " (4, 4),\n",
       " (4, 5),\n",
       " (4, 6)]"
      ]
     },
     "execution_count": 102,
     "metadata": {},
     "output_type": "execute_result"
    }
   ],
   "source": [
    "rdd_a = sc.parallelize([1,2,3,4])\n",
    "rdd_b = sc.parallelize([3,4,5,6])\n",
    "rdd_a.cartesian(rdd_b).collect()"
   ]
  },
  {
   "cell_type": "code",
   "execution_count": null,
   "metadata": {},
   "outputs": [],
   "source": []
  },
  {
   "cell_type": "markdown",
   "metadata": {},
   "source": [
    "### Page Rank Algorithm"
   ]
  },
  {
   "cell_type": "code",
   "execution_count": 128,
   "metadata": {},
   "outputs": [],
   "source": [
    "page_links = [['a', ['b','c','d']],\n",
    "              ['c', ['b']],\n",
    "              ['b', ['d','c']],\n",
    "              ['d', ['a','c']]\n",
    "             ]\n",
    "\n",
    "page_rank = [['a', 1], ['c', 1], ['b', 1], ['d', 1]]\n"
   ]
  },
  {
   "cell_type": "code",
   "execution_count": 129,
   "metadata": {},
   "outputs": [],
   "source": [
    "def rankContribution(uris, rank):\n",
    "    numberOUris = len(uris)\n",
    "    rankContribution = float(rank) / numberOfUris\n",
    "    newrank = []\n",
    "    for uri in uris:\n",
    "        newrank.append((uri, rankContribution))\n",
    "        return newrank\n",
    "    "
   ]
  },
  {
   "cell_type": "code",
   "execution_count": 130,
   "metadata": {},
   "outputs": [
    {
     "data": {
      "text/plain": [
       "[['a', ['b', 'c', 'd']], ['c', ['b']], ['b', ['d', 'c']], ['d', ['a', 'c']]]"
      ]
     },
     "execution_count": 130,
     "metadata": {},
     "output_type": "execute_result"
    }
   ],
   "source": [
    "pageLinkRDD = sc.parallelize(page_links, 2)\n",
    "pageLinkRDD.collect()\n"
   ]
  },
  {
   "cell_type": "code",
   "execution_count": 131,
   "metadata": {},
   "outputs": [
    {
     "data": {
      "text/plain": [
       "[['a', 1], ['c', 1], ['b', 1], ['d', 1]]"
      ]
     },
     "execution_count": 131,
     "metadata": {},
     "output_type": "execute_result"
    }
   ],
   "source": [
    "pageRankRDD = sc.parallelize(page_rank, 2)\n",
    "pageRankRDD.collect()\n"
   ]
  },
  {
   "cell_type": "code",
   "execution_count": null,
   "metadata": {},
   "outputs": [],
   "source": []
  },
  {
   "cell_type": "code",
   "execution_count": 132,
   "metadata": {},
   "outputs": [],
   "source": [
    "numIter = 20\n",
    "s = 0.85"
   ]
  },
  {
   "cell_type": "code",
   "execution_count": 133,
   "metadata": {},
   "outputs": [],
   "source": [
    "for i in range(numIter):\n",
    "    linksRank = pageLinkRDD.join(pageRankRDD)\n",
    "    contributedRDD = linksRank.flatMap(lambda x: rankContribution(x[1][0], x[1][1]))\n",
    "    sumRanks = contributedRDD.reduceByKey(lambda v1,v2: v1+v2)\n",
    "    pageRankRDD = sumRanks.map(lambda x: (x[0],(1-s)+s*x[1]))\n",
    "    "
   ]
  },
  {
   "cell_type": "code",
   "execution_count": null,
   "metadata": {},
   "outputs": [],
   "source": [
    "pageRankRDD.collect()\n"
   ]
  },
  {
   "cell_type": "code",
   "execution_count": null,
   "metadata": {},
   "outputs": [],
   "source": []
  },
  {
   "cell_type": "code",
   "execution_count": null,
   "metadata": {},
   "outputs": [],
   "source": []
  },
  {
   "cell_type": "code",
   "execution_count": null,
   "metadata": {},
   "outputs": [],
   "source": []
  },
  {
   "cell_type": "code",
   "execution_count": null,
   "metadata": {},
   "outputs": [],
   "source": []
  },
  {
   "cell_type": "code",
   "execution_count": null,
   "metadata": {},
   "outputs": [],
   "source": []
  },
  {
   "cell_type": "code",
   "execution_count": null,
   "metadata": {},
   "outputs": [],
   "source": []
  },
  {
   "cell_type": "markdown",
   "metadata": {},
   "source": [
    "### Reading csv File"
   ]
  },
  {
   "cell_type": "code",
   "execution_count": 10,
   "metadata": {},
   "outputs": [],
   "source": [
    "fifa = (sc.textFile('/home/hasan/DATA SET/fifa-world-cup/WorldCupPlayers.csv', minPartitions=4).map(lambda element: element.split('\\t')))\n"
   ]
  },
  {
   "cell_type": "code",
   "execution_count": 11,
   "metadata": {},
   "outputs": [
    {
     "data": {
      "text/plain": [
       "[['RoundID,MatchID,Team Initials,Coach Name,Line-up,Shirt Number,Player Name,Position,Event'],\n",
       " ['201,1096,FRA,CAUDRON Raoul (FRA),S,0,Alex THEPOT,GK,'],\n",
       " ['201,1096,MEX,LUQUE Juan (MEX),S,0,Oscar BONFIGLIO,GK,']]"
      ]
     },
     "execution_count": 11,
     "metadata": {},
     "output_type": "execute_result"
    }
   ],
   "source": [
    "fifa.take(3)"
   ]
  },
  {
   "cell_type": "code",
   "execution_count": 12,
   "metadata": {},
   "outputs": [
    {
     "data": {
      "text/plain": [
       "4"
      ]
     },
     "execution_count": 12,
     "metadata": {},
     "output_type": "execute_result"
    }
   ],
   "source": [
    "#printing number of partitions\n",
    "fifa.getNumPartitions()"
   ]
  },
  {
   "cell_type": "code",
   "execution_count": 13,
   "metadata": {},
   "outputs": [
    {
     "data": {
      "text/plain": [
       "37785"
      ]
     },
     "execution_count": 13,
     "metadata": {},
     "output_type": "execute_result"
    }
   ],
   "source": [
    "fifa.count()"
   ]
  },
  {
   "cell_type": "code",
   "execution_count": 14,
   "metadata": {},
   "outputs": [
    {
     "data": {
      "text/plain": [
       "[['RoundID,MatchID,Team Initials,Coach Name,Line-up,Shirt Number,Player Name,Position,Event'],\n",
       " ['201,1096,FRA,CAUDRON Raoul (FRA),S,0,Alex THEPOT,GK,'],\n",
       " ['201,1096,MEX,LUQUE Juan (MEX),S,0,Oscar BONFIGLIO,GK,'],\n",
       " [\"201,1096,FRA,CAUDRON Raoul (FRA),S,0,Marcel LANGILLER,,G40'\"]]"
      ]
     },
     "execution_count": 14,
     "metadata": {},
     "output_type": "execute_result"
    }
   ],
   "source": []
  },
  {
   "cell_type": "code",
   "execution_count": null,
   "metadata": {},
   "outputs": [],
   "source": []
  }
 ],
 "metadata": {
  "kernelspec": {
   "display_name": "Python 3",
   "language": "python",
   "name": "python3"
  },
  "language_info": {
   "codemirror_mode": {
    "name": "ipython",
    "version": 3
   },
   "file_extension": ".py",
   "mimetype": "text/x-python",
   "name": "python",
   "nbconvert_exporter": "python",
   "pygments_lexer": "ipython3",
   "version": "3.7.4"
  }
 },
 "nbformat": 4,
 "nbformat_minor": 2
}
