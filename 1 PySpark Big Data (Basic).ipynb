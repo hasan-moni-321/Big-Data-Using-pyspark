{
 "cells": [
  {
   "cell_type": "code",
   "execution_count": 12,
   "metadata": {},
   "outputs": [],
   "source": [
    "from pyspark.sql import *"
   ]
  },
  {
   "cell_type": "code",
   "execution_count": 13,
   "metadata": {},
   "outputs": [],
   "source": [
    "from pyspark.sql import SparkSession\n",
    "\n",
    "spark = SparkSession \\\n",
    "    .builder \\\n",
    "    .appName(\"Python Spark SQL basic example\") \\\n",
    "    .config(\"spark.some.config.option\", \"some-value\") \\\n",
    "    .getOrCreate()\n"
   ]
  },
  {
   "cell_type": "code",
   "execution_count": 15,
   "metadata": {},
   "outputs": [],
   "source": [
    "fifa = spark.read.csv('/home/hasan/DATA SET/fifa-world-cup/WorldCupPlayers.csv', header=True)\n"
   ]
  },
  {
   "cell_type": "code",
   "execution_count": 16,
   "metadata": {},
   "outputs": [
    {
     "name": "stdout",
     "output_type": "stream",
     "text": [
      "+-------+-------+-------------+-------------------+-------+------------+-----------------+--------+---------+\n",
      "|RoundID|MatchID|Team Initials|         Coach Name|Line-up|Shirt Number|      Player Name|Position|    Event|\n",
      "+-------+-------+-------------+-------------------+-------+------------+-----------------+--------+---------+\n",
      "|    201|   1096|          FRA|CAUDRON Raoul (FRA)|      S|           0|      Alex THEPOT|      GK|     null|\n",
      "|    201|   1096|          MEX|   LUQUE Juan (MEX)|      S|           0|  Oscar BONFIGLIO|      GK|     null|\n",
      "|    201|   1096|          FRA|CAUDRON Raoul (FRA)|      S|           0| Marcel LANGILLER|    null|     G40'|\n",
      "|    201|   1096|          MEX|   LUQUE Juan (MEX)|      S|           0|     Juan CARRENO|    null|     G70'|\n",
      "|    201|   1096|          FRA|CAUDRON Raoul (FRA)|      S|           0|  Ernest LIBERATI|    null|     null|\n",
      "|    201|   1096|          MEX|   LUQUE Juan (MEX)|      S|           0|     Rafael GARZA|       C|     null|\n",
      "|    201|   1096|          FRA|CAUDRON Raoul (FRA)|      S|           0|  Andre MASCHINOT|    null|G43' G87'|\n",
      "|    201|   1096|          MEX|   LUQUE Juan (MEX)|      S|           0|    Hilario LOPEZ|    null|     null|\n",
      "|    201|   1096|          FRA|CAUDRON Raoul (FRA)|      S|           0|  Etienne MATTLER|    null|     null|\n",
      "|    201|   1096|          MEX|   LUQUE Juan (MEX)|      S|           0|   Dionisio MEJIA|    null|     null|\n",
      "|    201|   1096|          FRA|CAUDRON Raoul (FRA)|      S|           0|     Marcel PINEL|    null|     null|\n",
      "|    201|   1096|          MEX|   LUQUE Juan (MEX)|      S|           0|     Felipe ROSAS|    null|     null|\n",
      "|    201|   1096|          FRA|CAUDRON Raoul (FRA)|      S|           0|  Alex VILLAPLANE|       C|     null|\n",
      "|    201|   1096|          MEX|   LUQUE Juan (MEX)|      S|           0|     Manuel ROSAS|    null|     null|\n",
      "|    201|   1096|          FRA|CAUDRON Raoul (FRA)|      S|           0|   Lucien LAURENT|    null|     G19'|\n",
      "|    201|   1096|          MEX|   LUQUE Juan (MEX)|      S|           0|        Jose RUIZ|    null|     null|\n",
      "|    201|   1096|          FRA|CAUDRON Raoul (FRA)|      S|           0|   Marcel CAPELLE|    null|     null|\n",
      "|    201|   1096|          MEX|   LUQUE Juan (MEX)|      S|           0|  Alfredo SANCHEZ|    null|     null|\n",
      "|    201|   1096|          FRA|CAUDRON Raoul (FRA)|      S|           0|Augustin CHANTREL|    null|     null|\n",
      "|    201|   1096|          MEX|   LUQUE Juan (MEX)|      S|           0|   Efrain AMEZCUA|    null|     null|\n",
      "+-------+-------+-------------+-------------------+-------+------------+-----------------+--------+---------+\n",
      "only showing top 20 rows\n",
      "\n"
     ]
    }
   ],
   "source": [
    "#printing some row column\n",
    "fifa.show()\n"
   ]
  },
  {
   "cell_type": "code",
   "execution_count": null,
   "metadata": {},
   "outputs": [],
   "source": []
  },
  {
   "cell_type": "markdown",
   "metadata": {},
   "source": [
    "# Some Basic Function"
   ]
  },
  {
   "cell_type": "code",
   "execution_count": 17,
   "metadata": {},
   "outputs": [
    {
     "name": "stdout",
     "output_type": "stream",
     "text": [
      "root\n",
      " |-- RoundID: string (nullable = true)\n",
      " |-- MatchID: string (nullable = true)\n",
      " |-- Team Initials: string (nullable = true)\n",
      " |-- Coach Name: string (nullable = true)\n",
      " |-- Line-up: string (nullable = true)\n",
      " |-- Shirt Number: string (nullable = true)\n",
      " |-- Player Name: string (nullable = true)\n",
      " |-- Position: string (nullable = true)\n",
      " |-- Event: string (nullable = true)\n",
      "\n"
     ]
    }
   ],
   "source": [
    "# printing summary of the dataset\n",
    "fifa.printSchema()\n"
   ]
  },
  {
   "cell_type": "code",
   "execution_count": 18,
   "metadata": {},
   "outputs": [
    {
     "data": {
      "text/plain": [
       "['RoundID',\n",
       " 'MatchID',\n",
       " 'Team Initials',\n",
       " 'Coach Name',\n",
       " 'Line-up',\n",
       " 'Shirt Number',\n",
       " 'Player Name',\n",
       " 'Position',\n",
       " 'Event']"
      ]
     },
     "execution_count": 18,
     "metadata": {},
     "output_type": "execute_result"
    }
   ],
   "source": [
    "#printing column\n",
    "fifa.columns\n"
   ]
  },
  {
   "cell_type": "code",
   "execution_count": 19,
   "metadata": {},
   "outputs": [
    {
     "data": {
      "text/plain": [
       "37784"
      ]
     },
     "execution_count": 19,
     "metadata": {},
     "output_type": "execute_result"
    }
   ],
   "source": [
    "#total number\n",
    "fifa.count()\n"
   ]
  },
  {
   "cell_type": "code",
   "execution_count": 20,
   "metadata": {},
   "outputs": [
    {
     "data": {
      "text/plain": [
       "9"
      ]
     },
     "execution_count": 20,
     "metadata": {},
     "output_type": "execute_result"
    }
   ],
   "source": [
    "#total number of column\n",
    "len(fifa.columns)\n"
   ]
  },
  {
   "cell_type": "code",
   "execution_count": 22,
   "metadata": {},
   "outputs": [
    {
     "name": "stdout",
     "output_type": "stream",
     "text": [
      "+-------+-------------------+\n",
      "|summary|         Coach Name|\n",
      "+-------+-------------------+\n",
      "|  count|              37784|\n",
      "|   mean|               null|\n",
      "| stddev|               null|\n",
      "|    min|ACOSTA Nelson (URU)|\n",
      "|    max|         ZICO (BRA)|\n",
      "+-------+-------------------+\n",
      "\n"
     ]
    }
   ],
   "source": [
    "#describe a specific column\n",
    "fifa.describe('Coach Name').show()\n"
   ]
  },
  {
   "cell_type": "code",
   "execution_count": 23,
   "metadata": {},
   "outputs": [
    {
     "name": "stdout",
     "output_type": "stream",
     "text": [
      "+-------+-------------------+\n",
      "|summary|            MatchID|\n",
      "+-------+-------------------+\n",
      "|  count|              37784|\n",
      "|   mean|6.362232957122062E7|\n",
      "| stddev|1.123915841640783E8|\n",
      "|    min|               1012|\n",
      "|    max|                996|\n",
      "+-------+-------------------+\n",
      "\n"
     ]
    }
   ],
   "source": [
    "#describe a specific column\n",
    "fifa.describe('MatchID').show()"
   ]
  },
  {
   "cell_type": "code",
   "execution_count": 28,
   "metadata": {},
   "outputs": [
    {
     "name": "stdout",
     "output_type": "stream",
     "text": [
      "+----------------+--------+\n",
      "|     Player Name|Position|\n",
      "+----------------+--------+\n",
      "|     Alex THEPOT|      GK|\n",
      "| Oscar BONFIGLIO|      GK|\n",
      "|Marcel LANGILLER|    null|\n",
      "|    Juan CARRENO|    null|\n",
      "| Ernest LIBERATI|    null|\n",
      "+----------------+--------+\n",
      "only showing top 5 rows\n",
      "\n"
     ]
    }
   ],
   "source": [
    "#showing two column\n",
    "fifa.select(['Player Name', 'Position']).show(5)"
   ]
  },
  {
   "cell_type": "code",
   "execution_count": 30,
   "metadata": {},
   "outputs": [
    {
     "name": "stdout",
     "output_type": "stream",
     "text": [
      "+-------+-------+-------------+--------------------+-------+------------+------------------+--------+-----+\n",
      "|RoundID|MatchID|Team Initials|          Coach Name|Line-up|Shirt Number|       Player Name|Position|Event|\n",
      "+-------+-------+-------------+--------------------+-------+------------+------------------+--------+-----+\n",
      "|    201|   1090|          USA|    MILLAR Bob (USA)|      S|           0|     Jimmy DOUGLAS|      GK| null|\n",
      "|    201|   1090|          BEL|GOETINCK Hector (...|      S|           0|     Arnold BADJOU|      GK| null|\n",
      "|    201|   1090|          USA|    MILLAR Bob (USA)|      S|           0|        Tom FLORIE|       C| G45'|\n",
      "|    201|   1090|          BEL|GOETINCK Hector (...|      S|           0|     Jean DE CLERQ|    null| null|\n",
      "|    201|   1090|          USA|    MILLAR Bob (USA)|      S|           0|   Jimmy GALLAGHER|    null| null|\n",
      "|    201|   1090|          BEL|GOETINCK Hector (...|      S|           0|       Jan DIDDENS|    null| null|\n",
      "|    201|   1090|          USA|    MILLAR Bob (USA)|      S|           0|   Billy GONSALVES|    null| null|\n",
      "|    201|   1090|          BEL|GOETINCK Hector (...|      S|           0| Auguste HELLEMANS|    null| null|\n",
      "|    201|   1090|          USA|    MILLAR Bob (USA)|      S|           0|       Bart McGHEE|    null| G23'|\n",
      "|    201|   1090|          BEL|GOETINCK Hector (...|      S|           0|Nikolaas HOYDONCKX|    null| null|\n",
      "|    201|   1090|          USA|    MILLAR Bob (USA)|      S|           0|  George MOORHOUSE|    null| null|\n",
      "|    201|   1090|          BEL|GOETINCK Hector (...|      S|           0|  Jacques MOESCHAL|    null| null|\n",
      "|    201|   1090|          USA|    MILLAR Bob (USA)|      S|           0|    Bert PATENAUDE|    null| G69'|\n",
      "|    201|   1090|          BEL|GOETINCK Hector (...|      S|           0|  Theodore NOUWENS|    null| null|\n",
      "|    201|   1090|          USA|    MILLAR Bob (USA)|      S|           0|       Ralph TRACY|    null| null|\n",
      "|    201|   1090|          BEL|GOETINCK Hector (...|      S|           0|     Fernand ADAMS|    null| null|\n",
      "|    201|   1090|          USA|    MILLAR Bob (USA)|      S|           0|    Alexander WOOD|    null| null|\n",
      "|    201|   1090|          BEL|GOETINCK Hector (...|      S|           0|      Louis VERSYP|    null| null|\n",
      "|    201|   1090|          USA|    MILLAR Bob (USA)|      S|           0|       Andrew AULD|    null| null|\n",
      "|    201|   1090|          BEL|GOETINCK Hector (...|      S|           0|  Bernard VOORHOOF|    null| null|\n",
      "+-------+-------+-------------+--------------------+-------+------------+------------------+--------+-----+\n",
      "only showing top 20 rows\n",
      "\n"
     ]
    }
   ],
   "source": [
    "#filtering\n",
    "fifa.filter(fifa.MatchID==1090).show()"
   ]
  },
  {
   "cell_type": "code",
   "execution_count": 31,
   "metadata": {},
   "outputs": [
    {
     "data": {
      "text/plain": [
       "1510"
      ]
     },
     "execution_count": 31,
     "metadata": {},
     "output_type": "execute_result"
    }
   ],
   "source": [
    "#count a specific position\n",
    "fifa.filter(fifa.Position=='C').count()"
   ]
  },
  {
   "cell_type": "code",
   "execution_count": 35,
   "metadata": {},
   "outputs": [
    {
     "name": "stdout",
     "output_type": "stream",
     "text": [
      "+-------+-------+-------------+--------------------+-------+------------+---------------+--------+-----+\n",
      "|RoundID|MatchID|Team Initials|          Coach Name|Line-up|Shirt Number|    Player Name|Position|Event|\n",
      "+-------+-------+-------------+--------------------+-------+------------+---------------+--------+-----+\n",
      "|    201|   1096|          FRA| CAUDRON Raoul (FRA)|      S|           0|    Alex THEPOT|      GK| null|\n",
      "|    201|   1096|          MEX|    LUQUE Juan (MEX)|      S|           0|Oscar BONFIGLIO|      GK| null|\n",
      "|    201|   1090|          USA|    MILLAR Bob (USA)|      S|           0|  Jimmy DOUGLAS|      GK| null|\n",
      "|    201|   1090|          BEL|GOETINCK Hector (...|      S|           0|  Arnold BADJOU|      GK| null|\n",
      "|    201|   1093|          YUG|SIMONOVIC Bosko (...|      S|           0| Milovan JAKSIC|      GK| null|\n",
      "|    201|   1093|          BRA|DE CARVALHO Pinda...|      S|           0|           JOEL|      GK| null|\n",
      "|    201|   1098|          ROU| LUCHIDE Octav (ROU)|      S|           0| Ion LAPUSNEANU|      GK| null|\n",
      "|    201|   1098|          PER| BRU Francisco (ESP)|      S|           0|Juan VALDIVIESO|      GK| null|\n",
      "|    201|   1085|          ARG|OLAZAR Francisco ...|      S|           0|   Angel BOSSIO|      GK| null|\n",
      "|    201|   1085|          FRA| CAUDRON Raoul (FRA)|      S|           0|    Alex THEPOT|      GK| null|\n",
      "+-------+-------+-------------+--------------------+-------+------------+---------------+--------+-----+\n",
      "only showing top 10 rows\n",
      "\n"
     ]
    }
   ],
   "source": [
    "#count a specific position\n",
    "fifa.filter(fifa.Position=='GK').show(10)"
   ]
  },
  {
   "cell_type": "code",
   "execution_count": 38,
   "metadata": {},
   "outputs": [
    {
     "name": "stdout",
     "output_type": "stream",
     "text": [
      "+-------+-------+-------------+----------------+-------+------------+-----------+--------+-----+\n",
      "|RoundID|MatchID|Team Initials|      Coach Name|Line-up|Shirt Number|Player Name|Position|Event|\n",
      "+-------+-------+-------------+----------------+-------+------------+-----------+--------+-----+\n",
      "|    201|   1090|          USA|MILLAR Bob (USA)|      S|           0| Tom FLORIE|       C| G45'|\n",
      "+-------+-------+-------------+----------------+-------+------------+-----------+--------+-----+\n",
      "\n"
     ]
    }
   ],
   "source": [
    "#filtering with multiple parameter\n",
    "fifa.filter((fifa.Position=='C') & (fifa.Event==\"G45'\")).show()"
   ]
  },
  {
   "cell_type": "code",
   "execution_count": 44,
   "metadata": {},
   "outputs": [
    {
     "name": "stdout",
     "output_type": "stream",
     "text": [
      "+-------+-------+-------------+--------------------+-------+------------+------------------+--------+-----+\n",
      "|RoundID|MatchID|Team Initials|          Coach Name|Line-up|Shirt Number|       Player Name|Position|Event|\n",
      "+-------+-------+-------------+--------------------+-------+------------+------------------+--------+-----+\n",
      "|    293|   1012|          TCH| VENGLOS Jozef (SVK)|      S|          21|     Zdenek HRUSKA|      GK| null|\n",
      "|    293|   1012|          KUW|PARREIRA Carlos A...|      S|           3|   Mahboud MUBARAK|    null| null|\n",
      "|    293|   1012|          KUW|PARREIRA Carlos A...|      S|           1|Ahmed AL TARABULSI|      GK| null|\n",
      "|    293|   1012|          TCH| VENGLOS Jozef (SVK)|      S|           3|         Jan FIALA|    null| null|\n",
      "|    293|   1012|          KUW|PARREIRA Carlos A...|      S|           2|        Naim FAJAH|    null| null|\n",
      "+-------+-------+-------------+--------------------+-------+------------+------------------+--------+-----+\n",
      "only showing top 5 rows\n",
      "\n"
     ]
    }
   ],
   "source": [
    "# printing with a specific column order\n",
    "fifa.orderBy(fifa.MatchID, ascending=True).show(5)"
   ]
  },
  {
   "cell_type": "code",
   "execution_count": null,
   "metadata": {},
   "outputs": [],
   "source": []
  },
  {
   "cell_type": "markdown",
   "metadata": {},
   "source": [
    "# Some SQL Query"
   ]
  },
  {
   "cell_type": "code",
   "execution_count": 58,
   "metadata": {},
   "outputs": [],
   "source": [
    "from pyspark import SparkContext\n",
    "from pyspark.sql import SQLContext\n"
   ]
  },
  {
   "cell_type": "code",
   "execution_count": 63,
   "metadata": {},
   "outputs": [],
   "source": [
    "#sc = SparkContext(\"local\", \"First App\")\n",
    "sqlContext = SQLContext(spark)\n"
   ]
  },
  {
   "cell_type": "code",
   "execution_count": 64,
   "metadata": {},
   "outputs": [],
   "source": [
    "#making table\n",
    "fifa.registerTempTable('fifa_table')\n"
   ]
  },
  {
   "cell_type": "code",
   "execution_count": 66,
   "metadata": {},
   "outputs": [
    {
     "name": "stdout",
     "output_type": "stream",
     "text": [
      "+-------+-------+-------------+-------------------+-------+------------+----------------+--------+-----+\n",
      "|RoundID|MatchID|Team Initials|         Coach Name|Line-up|Shirt Number|     Player Name|Position|Event|\n",
      "+-------+-------+-------------+-------------------+-------+------------+----------------+--------+-----+\n",
      "|    201|   1096|          FRA|CAUDRON Raoul (FRA)|      S|           0|     Alex THEPOT|      GK| null|\n",
      "|    201|   1096|          MEX|   LUQUE Juan (MEX)|      S|           0| Oscar BONFIGLIO|      GK| null|\n",
      "|    201|   1096|          FRA|CAUDRON Raoul (FRA)|      S|           0|Marcel LANGILLER|    null| G40'|\n",
      "|    201|   1096|          MEX|   LUQUE Juan (MEX)|      S|           0|    Juan CARRENO|    null| G70'|\n",
      "|    201|   1096|          FRA|CAUDRON Raoul (FRA)|      S|           0| Ernest LIBERATI|    null| null|\n",
      "+-------+-------+-------------+-------------------+-------+------------+----------------+--------+-----+\n",
      "only showing top 5 rows\n",
      "\n"
     ]
    }
   ],
   "source": [
    "#using sql query\n",
    "sqlContext.sql('select * from fifa_table').show(5)\n"
   ]
  },
  {
   "cell_type": "code",
   "execution_count": 67,
   "metadata": {},
   "outputs": [
    {
     "name": "stdout",
     "output_type": "stream",
     "text": [
      "+-------+\n",
      "|MatchID|\n",
      "+-------+\n",
      "|   1096|\n",
      "|   1096|\n",
      "|   1096|\n",
      "|   1096|\n",
      "|   1096|\n",
      "+-------+\n",
      "only showing top 5 rows\n",
      "\n"
     ]
    }
   ],
   "source": [
    "#using sql query\n",
    "sqlContext.sql('select MatchID from fifa_table').show(5)\n"
   ]
  },
  {
   "cell_type": "code",
   "execution_count": 74,
   "metadata": {},
   "outputs": [
    {
     "name": "stdout",
     "output_type": "stream",
     "text": [
      "+-------------+\n",
      "|Team Initials|\n",
      "+-------------+\n",
      "|Team Initials|\n",
      "|Team Initials|\n",
      "|Team Initials|\n",
      "|Team Initials|\n",
      "|Team Initials|\n",
      "+-------------+\n",
      "only showing top 5 rows\n",
      "\n"
     ]
    }
   ],
   "source": [
    "#using sql query\n",
    "sqlContext.sql(\"select 'Team Initials' from fifa_table\").show(5)\n"
   ]
  },
  {
   "cell_type": "code",
   "execution_count": null,
   "metadata": {},
   "outputs": [],
   "source": []
  },
  {
   "cell_type": "code",
   "execution_count": null,
   "metadata": {},
   "outputs": [],
   "source": []
  }
 ],
 "metadata": {
  "kernelspec": {
   "display_name": "Python 3",
   "language": "python",
   "name": "python3"
  },
  "language_info": {
   "codemirror_mode": {
    "name": "ipython",
    "version": 3
   },
   "file_extension": ".py",
   "mimetype": "text/x-python",
   "name": "python",
   "nbconvert_exporter": "python",
   "pygments_lexer": "ipython3",
   "version": "3.7.4"
  }
 },
 "nbformat": 4,
 "nbformat_minor": 2
}
