{
 "cells": [
  {
   "cell_type": "code",
   "execution_count": 1,
   "metadata": {},
   "outputs": [],
   "source": [
    "from pyspark import SparkContext\n",
    "from pyspark.sql import SQLContext\n",
    "sc = SparkContext()\n",
    "sqlContext = SQLContext(sc)\n"
   ]
  },
  {
   "cell_type": "code",
   "execution_count": null,
   "metadata": {},
   "outputs": [],
   "source": []
  },
  {
   "cell_type": "markdown",
   "metadata": {},
   "source": [
    "### Making dataframe from RDD"
   ]
  },
  {
   "cell_type": "markdown",
   "metadata": {},
   "source": [
    "#### Method 1"
   ]
  },
  {
   "cell_type": "code",
   "execution_count": 16,
   "metadata": {},
   "outputs": [
    {
     "name": "stdout",
     "output_type": "stream",
     "text": [
      "+--------+---+\n",
      "|    name|age|\n",
      "+--------+---+\n",
      "|   Ankit| 25|\n",
      "|Jalfaizy| 22|\n",
      "| saurabh| 20|\n",
      "|    Bala| 26|\n",
      "+--------+---+\n",
      "\n"
     ]
    }
   ],
   "source": [
    "from pyspark.sql import Row\n",
    "\n",
    "# Create a list of tuples. Each tuple contains name of a person with age.\n",
    "l = [('Ankit',25),('Jalfaizy',22),('saurabh',20),('Bala',26)]\n",
    "\n",
    "# Create a RDD from the list above.\n",
    "rdd = sc.parallelize(l)\n",
    "\n",
    "# Convert each tuple to a row.\n",
    "people = rdd.map(lambda x: Row(name=x[0], age=int(x[1])))\n",
    "\n",
    "# Create a DataFrame by applying createDataFrame on RDD with the help of sqlContext.\n",
    "schemaPeople = sqlContext.createDataFrame(people)\n",
    "schemaPeople.show()\n"
   ]
  },
  {
   "cell_type": "code",
   "execution_count": null,
   "metadata": {},
   "outputs": [],
   "source": []
  },
  {
   "cell_type": "markdown",
   "metadata": {},
   "source": [
    "#### Method 2"
   ]
  },
  {
   "cell_type": "code",
   "execution_count": 17,
   "metadata": {},
   "outputs": [
    {
     "name": "stdout",
     "output_type": "stream",
     "text": [
      "+--------+---+\n",
      "|    name|age|\n",
      "+--------+---+\n",
      "|   Ankit| 25|\n",
      "|Jalfaizy| 22|\n",
      "| saurabh| 20|\n",
      "|    Bala| 26|\n",
      "+--------+---+\n",
      "\n"
     ]
    }
   ],
   "source": [
    "from pyspark.sql import Row\n",
    "\n",
    "rdd = sc.parallelize([Row(a=1,b=2,c=3),Row(a=4,b=5,c=6),Row(a=7,b=8,c=9)])\n",
    "\n",
    "schemaPeople = people.toDF()\n",
    "schemaPeople.show()\n"
   ]
  },
  {
   "cell_type": "code",
   "execution_count": null,
   "metadata": {},
   "outputs": [],
   "source": []
  },
  {
   "cell_type": "markdown",
   "metadata": {},
   "source": [
    "#### Method 3"
   ]
  },
  {
   "cell_type": "code",
   "execution_count": 18,
   "metadata": {},
   "outputs": [],
   "source": [
    "l = [('Ankit',25),('Jalfaizy',22),('saurabh',20),('Bala',26)]\n",
    "\n",
    "rdd = sc.parallelize(l)\n",
    "df = rdd.toDF([\"a\",\"b\"])\n"
   ]
  },
  {
   "cell_type": "code",
   "execution_count": 19,
   "metadata": {},
   "outputs": [
    {
     "name": "stdout",
     "output_type": "stream",
     "text": [
      "+--------+---+\n",
      "|       a|  b|\n",
      "+--------+---+\n",
      "|   Ankit| 25|\n",
      "|Jalfaizy| 22|\n",
      "| saurabh| 20|\n",
      "|    Bala| 26|\n",
      "+--------+---+\n",
      "\n"
     ]
    }
   ],
   "source": [
    "df.show()\n"
   ]
  },
  {
   "cell_type": "code",
   "execution_count": null,
   "metadata": {},
   "outputs": [],
   "source": []
  },
  {
   "cell_type": "markdown",
   "metadata": {},
   "source": [
    "### Creating the DataFrame from CSV file"
   ]
  },
  {
   "cell_type": "code",
   "execution_count": 21,
   "metadata": {},
   "outputs": [],
   "source": [
    "train = sqlContext.read.csv(path = '/home/hasan/DATA SET/ind-ban-comment.csv', header = True)\n"
   ]
  },
  {
   "cell_type": "code",
   "execution_count": 23,
   "metadata": {},
   "outputs": [
    {
     "name": "stdout",
     "output_type": "stream",
     "text": [
      "+-------+-----------------+------+-----------------+--------------------+------+---------+---+------+----------+--------+----+----+-------------------+\n",
      "|Batsman|     Batsman_Name|Bowler|      Bowler_Name|          Commentary|Detail|Dismissed| Id|Isball|Isboundary|Iswicket|Over|Runs|          Timestamp|\n",
      "+-------+-----------------+------+-----------------+--------------------+------+---------+---+------+----------+--------+----+----+-------------------+\n",
      "|  28994|   Mohammed Shami| 63881|Mustafizur Rahman|OUT! Bowled! 5-fe...|     W|    28994|346|  True|      null|       1|49.6|   0|2019-07-02 13:18:47|\n",
      "|   5132|Bhuvneshwar Kumar| 63881|Mustafizur Rahman|WIDE AND RUN OUT!...|  W+wd|     5132|344|  True|      null|       1|49.6|   1|2019-07-02 13:17:28|\n",
      "|  28994|   Mohammed Shami| 63881|Mustafizur Rahman|Back of a length ...|  null|     null|343|  True|      null|    null|49.5|   1|2019-07-02 13:16:03|\n",
      "|   5132|Bhuvneshwar Kumar| 63881|Mustafizur Rahman|Just 1 run off th...|  null|     null|342|  True|      null|    null|49.4|   1|2019-07-02 13:15:17|\n",
      "|   3676|         MS Dhoni| 63881|Mustafizur Rahman|OUT! No Dhoni mag...|     W|     3676|340|  True|      null|       1|49.3|   0|2019-07-02 13:13:39|\n",
      "+-------+-----------------+------+-----------------+--------------------+------+---------+---+------+----------+--------+----+----+-------------------+\n",
      "only showing top 5 rows\n",
      "\n"
     ]
    }
   ],
   "source": [
    "train.show(5)\n"
   ]
  },
  {
   "cell_type": "code",
   "execution_count": null,
   "metadata": {},
   "outputs": [],
   "source": []
  },
  {
   "cell_type": "markdown",
   "metadata": {},
   "source": [
    "### Some Built-in Function"
   ]
  },
  {
   "cell_type": "code",
   "execution_count": 24,
   "metadata": {},
   "outputs": [
    {
     "name": "stdout",
     "output_type": "stream",
     "text": [
      "root\n",
      " |-- Batsman: string (nullable = true)\n",
      " |-- Batsman_Name: string (nullable = true)\n",
      " |-- Bowler: string (nullable = true)\n",
      " |-- Bowler_Name: string (nullable = true)\n",
      " |-- Commentary: string (nullable = true)\n",
      " |-- Detail: string (nullable = true)\n",
      " |-- Dismissed: string (nullable = true)\n",
      " |-- Id: string (nullable = true)\n",
      " |-- Isball: string (nullable = true)\n",
      " |-- Isboundary: string (nullable = true)\n",
      " |-- Iswicket: string (nullable = true)\n",
      " |-- Over: string (nullable = true)\n",
      " |-- Runs: string (nullable = true)\n",
      " |-- Timestamp: string (nullable = true)\n",
      "\n"
     ]
    }
   ],
   "source": [
    "train.printSchema()\n"
   ]
  },
  {
   "cell_type": "code",
   "execution_count": null,
   "metadata": {},
   "outputs": [],
   "source": []
  },
  {
   "cell_type": "code",
   "execution_count": 25,
   "metadata": {},
   "outputs": [
    {
     "data": {
      "text/plain": [
       "[Row(Batsman='28994', Batsman_Name='Mohammed Shami', Bowler='63881', Bowler_Name='Mustafizur Rahman', Commentary='OUT! Bowled! 5-fer to finish a tremendous last over. His 4th 5-wicket haul in ODIs. Around off, Shami moves across to paddle but misses the ball hits his pads and goes onto hit the stumps. 2 wickets and just 3 runs from the final over. Top notch from Mustafizur. INDIA FINISH WITH 314/9 FROM THEIR 50 OVERS.', Detail='W', Dismissed='28994', Id='346', Isball='True', Isboundary=None, Iswicket='1', Over='49.6', Runs='0', Timestamp='2019-07-02 13:18:47'),\n",
       " Row(Batsman='5132', Batsman_Name='Bhuvneshwar Kumar', Bowler='63881', Bowler_Name='Mustafizur Rahman', Commentary=\"WIDE AND RUN OUT! Slower delivery outside off, it is on the wrong side of the tramline. Shami comes for a run. Bhuvi was slow though. Rahim throws it to Mustafizur, who hits the stumps at the bowler's end. The umpire takes it upstairs but Bhuvneshwar had started to walk back even before the replays rolled in.\", Detail='W+wd', Dismissed='5132', Id='344', Isball='True', Isboundary=None, Iswicket='1', Over='49.6', Runs='1', Timestamp='2019-07-02 13:17:28'),\n",
       " Row(Batsman='28994', Batsman_Name='Mohammed Shami', Bowler='63881', Bowler_Name='Mustafizur Rahman', Commentary='Back of a length ball on off, Shami pulls it to deep mid-wicket and gets a single.', Detail=None, Dismissed=None, Id='343', Isball='True', Isboundary=None, Iswicket=None, Over='49.5', Runs='1', Timestamp='2019-07-02 13:16:03'),\n",
       " Row(Batsman='5132', Batsman_Name='Bhuvneshwar Kumar', Bowler='63881', Bowler_Name='Mustafizur Rahman', Commentary='Just 1 run off the 4 balls. This is World Class stuff. Good length ball on off, Kumar punches it to the side of the pitch and gets a single.', Detail=None, Dismissed=None, Id='342', Isball='True', Isboundary=None, Iswicket=None, Over='49.4', Runs='1', Timestamp='2019-07-02 13:15:17'),\n",
       " Row(Batsman='3676', Batsman_Name='MS Dhoni', Bowler='63881', Bowler_Name='Mustafizur Rahman', Commentary=\"OUT! No Dhoni magic in the last over. Slower bouncer away from the body, Dhoni looks to flat-bat it straight over the bowler's head. It comes off the upper half of his bat and goes to the left of mid on. Shakib moves across to his left hand side and takes an easy catch.\", Detail='W', Dismissed='3676', Id='340', Isball='True', Isboundary=None, Iswicket='1', Over='49.3', Runs='0', Timestamp='2019-07-02 13:13:39')]"
      ]
     },
     "execution_count": 25,
     "metadata": {},
     "output_type": "execute_result"
    }
   ],
   "source": [
    "train.head(5)\n"
   ]
  },
  {
   "cell_type": "code",
   "execution_count": null,
   "metadata": {},
   "outputs": [],
   "source": []
  },
  {
   "cell_type": "code",
   "execution_count": 26,
   "metadata": {},
   "outputs": [
    {
     "name": "stdout",
     "output_type": "stream",
     "text": [
      "+-------+-----------------+------+-----------------+--------------------+------+---------+---+------+----------+--------+----+----+-------------------+\n",
      "|Batsman|     Batsman_Name|Bowler|      Bowler_Name|          Commentary|Detail|Dismissed| Id|Isball|Isboundary|Iswicket|Over|Runs|          Timestamp|\n",
      "+-------+-----------------+------+-----------------+--------------------+------+---------+---+------+----------+--------+----+----+-------------------+\n",
      "|  28994|   Mohammed Shami| 63881|Mustafizur Rahman|OUT! Bowled! 5-fe...|     W|    28994|346|  True|      null|       1|49.6|   0|2019-07-02 13:18:47|\n",
      "|   5132|Bhuvneshwar Kumar| 63881|Mustafizur Rahman|WIDE AND RUN OUT!...|  W+wd|     5132|344|  True|      null|       1|49.6|   1|2019-07-02 13:17:28|\n",
      "+-------+-----------------+------+-----------------+--------------------+------+---------+---+------+----------+--------+----+----+-------------------+\n",
      "only showing top 2 rows\n",
      "\n"
     ]
    }
   ],
   "source": [
    "train.show(2,truncate= True)\n"
   ]
  },
  {
   "cell_type": "code",
   "execution_count": null,
   "metadata": {},
   "outputs": [],
   "source": []
  },
  {
   "cell_type": "code",
   "execution_count": 27,
   "metadata": {},
   "outputs": [
    {
     "data": {
      "text/plain": [
       "605"
      ]
     },
     "execution_count": 27,
     "metadata": {},
     "output_type": "execute_result"
    }
   ],
   "source": [
    "train.count()\n"
   ]
  },
  {
   "cell_type": "code",
   "execution_count": null,
   "metadata": {},
   "outputs": [],
   "source": []
  },
  {
   "cell_type": "code",
   "execution_count": 28,
   "metadata": {},
   "outputs": [
    {
     "data": {
      "text/plain": [
       "14"
      ]
     },
     "execution_count": 28,
     "metadata": {},
     "output_type": "execute_result"
    }
   ],
   "source": [
    "len(train.columns)\n"
   ]
  },
  {
   "cell_type": "code",
   "execution_count": null,
   "metadata": {},
   "outputs": [],
   "source": []
  },
  {
   "cell_type": "code",
   "execution_count": 29,
   "metadata": {},
   "outputs": [
    {
     "name": "stdout",
     "output_type": "stream",
     "text": [
      "+-------+------------------+-----------------+------------------+-----------------+--------------------+------+------------------+-----------------+------+----------+--------+------------------+------------------+-------------------+\n",
      "|summary|           Batsman|     Batsman_Name|            Bowler|      Bowler_Name|          Commentary|Detail|         Dismissed|               Id|Isball|Isboundary|Iswicket|              Over|              Runs|          Timestamp|\n",
      "+-------+------------------+-----------------+------------------+-----------------+--------------------+------+------------------+-----------------+------+----------+--------+------------------+------------------+-------------------+\n",
      "|  count|               605|              605|               605|              605|                 605|    40|                19|              605|   605|        67|      19|               605|               605|                605|\n",
      "|   mean|31971.652892561982|             null| 35304.43636363636|             null|                null|  null| 29728.21052631579| 169.099173553719|  null|       1.0|     1.0| 24.54975206611575|0.9917355371900827|               null|\n",
      "| stddev|29174.050305769255|             null|27624.437514359786|             null|                null|  null|29082.396377608355|96.59540500214156|  null|       0.0|     0.0|14.250888926776732| 1.342725481259329|               null|\n",
      "|    min|              1948|Bhuvneshwar Kumar|              1948|Bhuvneshwar Kumar|10 dot ball on th...|     W|              1948|               10|  True|         1|       1|               0.1|                 0|2019-07-02 09:31:51|\n",
      "|    max|             65756|      Virat Kohli|              9844| Yuzvendra Chahal|Yorker on off. It...|    wd|             65756|               99|  True|         1|       1|               9.6|                 6|2019-07-02 17:32:06|\n",
      "+-------+------------------+-----------------+------------------+-----------------+--------------------+------+------------------+-----------------+------+----------+--------+------------------+------------------+-------------------+\n",
      "\n"
     ]
    }
   ],
   "source": [
    "train.describe().show()\n"
   ]
  },
  {
   "cell_type": "code",
   "execution_count": null,
   "metadata": {},
   "outputs": [],
   "source": []
  },
  {
   "cell_type": "code",
   "execution_count": 30,
   "metadata": {},
   "outputs": [
    {
     "name": "stdout",
     "output_type": "stream",
     "text": [
      "+-------+------------------+\n",
      "|summary|              Runs|\n",
      "+-------+------------------+\n",
      "|  count|               605|\n",
      "|   mean|0.9917355371900827|\n",
      "| stddev| 1.342725481259329|\n",
      "|    min|                 0|\n",
      "|    max|                 6|\n",
      "+-------+------------------+\n",
      "\n"
     ]
    }
   ],
   "source": [
    "train.describe('Runs').show()\n"
   ]
  },
  {
   "cell_type": "code",
   "execution_count": null,
   "metadata": {},
   "outputs": [],
   "source": []
  },
  {
   "cell_type": "code",
   "execution_count": 31,
   "metadata": {},
   "outputs": [
    {
     "name": "stdout",
     "output_type": "stream",
     "text": [
      "+-------+----+\n",
      "|Batsman|Runs|\n",
      "+-------+----+\n",
      "|  28994|   0|\n",
      "|   5132|   1|\n",
      "|  28994|   1|\n",
      "|   5132|   1|\n",
      "|   3676|   0|\n",
      "+-------+----+\n",
      "only showing top 5 rows\n",
      "\n"
     ]
    }
   ],
   "source": [
    "train.select('Batsman','Runs').show(5)\n"
   ]
  },
  {
   "cell_type": "code",
   "execution_count": null,
   "metadata": {},
   "outputs": [],
   "source": []
  },
  {
   "cell_type": "code",
   "execution_count": 32,
   "metadata": {},
   "outputs": [
    {
     "data": {
      "text/plain": [
       "20"
      ]
     },
     "execution_count": 32,
     "metadata": {},
     "output_type": "execute_result"
    }
   ],
   "source": [
    "train.select('Batsman').distinct().count()\n"
   ]
  },
  {
   "cell_type": "code",
   "execution_count": null,
   "metadata": {},
   "outputs": [],
   "source": []
  },
  {
   "cell_type": "code",
   "execution_count": null,
   "metadata": {},
   "outputs": [],
   "source": []
  }
 ],
 "metadata": {
  "kernelspec": {
   "display_name": "Python 3",
   "language": "python",
   "name": "python3"
  },
  "language_info": {
   "codemirror_mode": {
    "name": "ipython",
    "version": 3
   },
   "file_extension": ".py",
   "mimetype": "text/x-python",
   "name": "python",
   "nbconvert_exporter": "python",
   "pygments_lexer": "ipython3",
   "version": "3.7.4"
  }
 },
 "nbformat": 4,
 "nbformat_minor": 2
}
